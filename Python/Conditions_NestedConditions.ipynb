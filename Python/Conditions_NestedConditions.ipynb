{
 "cells": [
  {
   "cell_type": "code",
   "execution_count": null,
   "id": "8f707d6e",
   "metadata": {},
   "outputs": [],
   "source": []
  },
  {
   "cell_type": "code",
   "execution_count": null,
   "id": "72bcf445",
   "metadata": {},
   "outputs": [],
   "source": [
    "\n",
    "overall\n",
    " if  ---single condition\n",
    "if else---> two conditions, true false, 1 0\n",
    "elif --->more two conditions\n"
   ]
  },
  {
   "cell_type": "code",
   "execution_count": null,
   "id": "d9dd5720",
   "metadata": {},
   "outputs": [],
   "source": [
    "syntax:\n",
    "    \n",
    "if condition:\n",
    "    statement\n",
    "    statement1\n",
    "indentation---->"
   ]
  },
  {
   "cell_type": "code",
   "execution_count": null,
   "id": "89e03670",
   "metadata": {},
   "outputs": [],
   "source": [
    "if condtions:\n",
    "    \n",
    "    \n",
    "--->4 space, 8 space    "
   ]
  },
  {
   "cell_type": "code",
   "execution_count": null,
   "id": "367f693d",
   "metadata": {},
   "outputs": [],
   "source": [
    "condition"
   ]
  },
  {
   "cell_type": "code",
   "execution_count": null,
   "id": "eb12821b",
   "metadata": {},
   "outputs": [],
   "source": [
    " lhs=rsh"
   ]
  },
  {
   "cell_type": "code",
   "execution_count": null,
   "id": "de14baed",
   "metadata": {},
   "outputs": [],
   "source": [
    "left_side_variable comparision operator right_side_variable"
   ]
  },
  {
   "cell_type": "code",
   "execution_count": null,
   "id": "58978395",
   "metadata": {},
   "outputs": [],
   "source": [
    "variable1 == varaiabl2"
   ]
  },
  {
   "cell_type": "code",
   "execution_count": null,
   "id": "041c30a2",
   "metadata": {},
   "outputs": [],
   "source": [
    "if lhsvar==rhsvariable:\n",
    "    statements\n",
    "    "
   ]
  },
  {
   "cell_type": "code",
   "execution_count": null,
   "id": "5cf71191",
   "metadata": {},
   "outputs": [],
   "source": [
    "daily_milk=100"
   ]
  },
  {
   "cell_type": "code",
   "execution_count": null,
   "id": "e467d701",
   "metadata": {},
   "outputs": [],
   "source": [
    "---> 100 sale profit\n",
    "--->100 no infomration"
   ]
  },
  {
   "cell_type": "code",
   "execution_count": null,
   "id": "d959eed5",
   "metadata": {},
   "outputs": [],
   "source": [
    "frequenct change variable-->"
   ]
  },
  {
   "cell_type": "code",
   "execution_count": 7,
   "id": "ee567e95",
   "metadata": {},
   "outputs": [],
   "source": [
    "daily_milk=101"
   ]
  },
  {
   "cell_type": "code",
   "execution_count": 8,
   "id": "2f0ebeae",
   "metadata": {},
   "outputs": [],
   "source": [
    "target_milk_sale=150----? business 3 6m"
   ]
  },
  {
   "cell_type": "code",
   "execution_count": 11,
   "id": "6e1aec3c",
   "metadata": {},
   "outputs": [],
   "source": [
    "target_milk_sale=150---?parametric way"
   ]
  },
  {
   "cell_type": "code",
   "execution_count": null,
   "id": "152fa99e",
   "metadata": {},
   "outputs": [],
   "source": [
    "target_milk_sale=100\n",
    "target_milk_demand=20\n"
   ]
  },
  {
   "cell_type": "code",
   "execution_count": 12,
   "id": "07cf6224",
   "metadata": {},
   "outputs": [],
   "source": [
    "if daily_milk > target_milk_sale:\n",
    "    print(\" today is profit\")"
   ]
  },
  {
   "cell_type": "code",
   "execution_count": 13,
   "id": "91be3a67",
   "metadata": {},
   "outputs": [],
   "source": [
    "if daily_milk > target_milk_sale:\n",
    "    print(\" today is profit\")"
   ]
  },
  {
   "cell_type": "code",
   "execution_count": 14,
   "id": "241d850a",
   "metadata": {},
   "outputs": [],
   "source": [
    "if daily_milk > target_milk_sale:\n",
    "    print(\" today is profit\")"
   ]
  },
  {
   "cell_type": "code",
   "execution_count": 15,
   "id": "f9bcf0dd",
   "metadata": {},
   "outputs": [],
   "source": [
    "if daily_milk > target_milk_sale:\n",
    "    print(\" today is profit\")"
   ]
  },
  {
   "cell_type": "code",
   "execution_count": 10,
   "id": "2ba0e390",
   "metadata": {},
   "outputs": [
    {
     "name": "stdout",
     "output_type": "stream",
     "text": [
      " today is profit\n"
     ]
    }
   ],
   "source": [
    "if daily_milk > 150:\n",
    "    print(\" today is profit\")"
   ]
  },
  {
   "cell_type": "code",
   "execution_count": null,
   "id": "e4526fe4",
   "metadata": {},
   "outputs": [],
   "source": [
    "if daily_milk > 150:\n",
    "    print(\" today is profit\")"
   ]
  },
  {
   "cell_type": "code",
   "execution_count": null,
   "id": "d8afd641",
   "metadata": {},
   "outputs": [],
   "source": [
    "if daily_milk > 150:\n",
    "    print(\" today is profit\")"
   ]
  },
  {
   "cell_type": "code",
   "execution_count": null,
   "id": "03607376",
   "metadata": {},
   "outputs": [],
   "source": [
    "if daily_milk > 150:\n",
    "    print(\" today is profit\")"
   ]
  },
  {
   "cell_type": "code",
   "execution_count": null,
   "id": "bc468de3",
   "metadata": {},
   "outputs": [],
   "source": [
    "if else"
   ]
  },
  {
   "cell_type": "code",
   "execution_count": null,
   "id": "d2402429",
   "metadata": {},
   "outputs": [],
   "source": [
    "if condition:\n",
    "    statements\n",
    "else:\n",
    "    statement "
   ]
  },
  {
   "cell_type": "code",
   "execution_count": null,
   "id": "324d8eed",
   "metadata": {},
   "outputs": [],
   "source": [
    "daily_milksale=100\n",
    "targer_milksale=150\n",
    "\n",
    "--->150 above profit\n",
    "--->150 below loss\n",
    "\n"
   ]
  },
  {
   "cell_type": "code",
   "execution_count": 19,
   "id": "87d6ea39",
   "metadata": {},
   "outputs": [],
   "source": [
    "daily_milksale=200\n",
    "targer_milksale=150"
   ]
  },
  {
   "cell_type": "code",
   "execution_count": 20,
   "id": "38187387",
   "metadata": {},
   "outputs": [
    {
     "name": "stdout",
     "output_type": "stream",
     "text": [
      " today is profit\n"
     ]
    }
   ],
   "source": [
    "if daily_milksale > targer_milksale:\n",
    "    print(\" today is profit\")\n",
    "else:\n",
    "    print(\" today is loss\")"
   ]
  },
  {
   "cell_type": "code",
   "execution_count": null,
   "id": "86c0741e",
   "metadata": {},
   "outputs": [],
   "source": [
    "elif condition-->multiple conditions"
   ]
  },
  {
   "cell_type": "code",
   "execution_count": null,
   "id": "85ab5de9",
   "metadata": {},
   "outputs": [],
   "source": [
    "if condition:\n",
    "    statement\n",
    "elif condition:\n",
    "    statement\n",
    "elif condition:\n",
    "    statement\n",
    "elif condition:\n",
    "    statement\n",
    "else:\n",
    "    statement\n",
    "    \n",
    "    "
   ]
  },
  {
   "cell_type": "code",
   "execution_count": 27,
   "id": "2c408f15",
   "metadata": {},
   "outputs": [],
   "source": [
    "daily_milksale=200\n"
   ]
  },
  {
   "cell_type": "code",
   "execution_count": 23,
   "id": "48f7d5d4",
   "metadata": {},
   "outputs": [],
   "source": [
    "target_milksale=200\n"
   ]
  },
  {
   "cell_type": "code",
   "execution_count": null,
   "id": "01f983e7",
   "metadata": {},
   "outputs": [],
   "source": [
    "target_milksale=200\n",
    "\n",
    "150 above profit\n",
    "150 below loss\n",
    "150 no profit no loss"
   ]
  },
  {
   "cell_type": "code",
   "execution_count": 28,
   "id": "b42862a7",
   "metadata": {},
   "outputs": [
    {
     "name": "stdout",
     "output_type": "stream",
     "text": [
      " today is no loss no profit\n"
     ]
    }
   ],
   "source": [
    "if daily_milksale > target_milksale:\n",
    "    print(\" today is profit\")\n",
    "elif daily_milksale < target_milksale:\n",
    "    print(\" today is loss\")\n",
    "elif daily_milksale == target_milksale:\n",
    "    print(\" today is no loss no profit\")\n",
    "    "
   ]
  },
  {
   "cell_type": "code",
   "execution_count": 29,
   "id": "3d1b7d89",
   "metadata": {},
   "outputs": [
    {
     "name": "stdout",
     "output_type": "stream",
     "text": [
      " today is no loss no profit\n"
     ]
    }
   ],
   "source": [
    "if daily_milksale > target_milksale:\n",
    "    print(\" today is profit\")\n",
    "elif daily_milksale < target_milksale:\n",
    "    print(\" today is loss\")\n",
    "else :\n",
    "    print(\" today is no loss no profit\")"
   ]
  },
  {
   "cell_type": "code",
   "execution_count": null,
   "id": "1ac41422",
   "metadata": {},
   "outputs": [],
   "source": [
    "banking----\n",
    "\n"
   ]
  },
  {
   "cell_type": "code",
   "execution_count": null,
   "id": "97b8dfef",
   "metadata": {},
   "outputs": [],
   "source": [
    "nested if condition--->\n",
    "\n",
    "syntax: \n",
    "\n",
    "if conditions1:\n",
    "    if condition2:\n",
    "        if condition3:\n",
    "            statements\n",
    "            "
   ]
  },
  {
   "cell_type": "code",
   "execution_count": null,
   "id": "d4c25caf",
   "metadata": {},
   "outputs": [],
   "source": [
    "if conditions1:\n",
    "    if condition2:\n",
    "        if condition3:\n",
    "            statements\n",
    "        else:\n",
    "            statement\n",
    "    else:\n",
    "        statement\n",
    "else:\n",
    "    statement\n",
    "            "
   ]
  },
  {
   "cell_type": "code",
   "execution_count": null,
   "id": "5b1a535a",
   "metadata": {},
   "outputs": [],
   "source": [
    "# :elif \n",
    "\n",
    "if conditions1:\n",
    "    if condtions_a:\n",
    "        statement\n",
    "    elif condition_b:\n",
    "        statement\n",
    "    elif condition_c:\n",
    "        statement\n",
    "    elif condition_d:\n",
    "        statement\n",
    "    else:\n",
    "        statement\n",
    "elif condition2:\n",
    "    if condition_a:\n",
    "        statement\n",
    "    elif conditions_b:\n",
    "        statement\n",
    "    elif condition_c:\n",
    "        statement\n",
    "    elif condition_d:\n",
    "        statement\n",
    "    else:\n",
    "        statement\n",
    "elif condition3:\n",
    "    if condition_a:\n",
    "        statement\n",
    "    elif conditions_b:\n",
    "        statement\n",
    "    elif condition_c:\n",
    "        statement\n",
    "    elif condition_d:\n",
    "        statement\n",
    "    else:\n",
    "        statement\n",
    "else:\n",
    "    statement\n",
    "    \n",
    "        \n",
    "        \n"
   ]
  },
  {
   "cell_type": "code",
   "execution_count": null,
   "id": "383e6a35",
   "metadata": {},
   "outputs": [],
   "source": [
    "customer---\n",
    "customer -->\"nivas\"\n",
    "deposite-->credit/debit\n",
    "c-location: metro(10) /non metro (5)\n",
    "citizenship age: >60 100/-  <60 0/-\n"
   ]
  },
  {
   "cell_type": "code",
   "execution_count": null,
   "id": "c3257d00",
   "metadata": {},
   "outputs": [],
   "source": [
    "customer_name=\"nivas\""
   ]
  },
  {
   "cell_type": "code",
   "execution_count": null,
   "id": "20036d1d",
   "metadata": {},
   "outputs": [],
   "source": [
    "deposite_amt=10000"
   ]
  },
  {
   "cell_type": "code",
   "execution_count": null,
   "id": "12cd6d24",
   "metadata": {},
   "outputs": [],
   "source": [
    "location=\"metro\""
   ]
  },
  {
   "cell_type": "code",
   "execution_count": null,
   "id": "050397e3",
   "metadata": {},
   "outputs": [],
   "source": [
    "citizenship=43"
   ]
  },
  {
   "cell_type": "code",
   "execution_count": null,
   "id": "b660ba17",
   "metadata": {},
   "outputs": [],
   "source": [
    "logic ----->\n",
    "use concept condition\n",
    "\n",
    "if\n",
    "if else\n",
    "if elif \n",
    "nested if "
   ]
  },
  {
   "cell_type": "code",
   "execution_count": 6,
   "id": "ed891cde",
   "metadata": {},
   "outputs": [
    {
     "name": "stdout",
     "output_type": "stream",
     "text": [
      " the final deposited amount 9000.0\n"
     ]
    }
   ],
   "source": [
    "# customer -->\"nivas\"\n",
    "# deposite-->credit/debit\n",
    "# c-location: metro(10) /non metro (5)\n",
    "# citizenship age: >60 100/-  <60 0/-\n",
    "\n",
    "customer_name=\"nivas\"\n",
    "deposite_type=\"debit\"\n",
    "location_type=\"metro\"\n",
    "deposite_amt=10000\n",
    "citizenship=45\n",
    "\n",
    "if customer_name==\"nivas\":\n",
    "    if deposite_type==\"credit\":\n",
    "        if location_type==\"metro\":\n",
    "            add_amount=deposite_amt*.10\n",
    "            deposite_amt=deposite_amt+add_amount\n",
    "            \n",
    "            if citizenship>60:\n",
    "                deposite_amt=deposite_amt+100  \n",
    "                print(\" the final deposited amount\",deposite_amt)\n",
    "                \n",
    "            elif citizenship<60:\n",
    "                deposite_amt=deposite_amt\n",
    "                print(\" the final deposited amount\",deposite_amt)\n",
    "        elif location_type==\"nonmetro\":\n",
    "            add_amount=deposite_amt*.05\n",
    "            deposite_amt=deposite_amt+add_amount\n",
    "            if citizenship>60:\n",
    "                deposite_amt=deposite_amt+100 \n",
    "                print(\" the final deposited amount\",deposite_amt)\n",
    "            elif citizenship<60:\n",
    "                deposite_amt=deposite_amt \n",
    "                print(\" the final deposited amount\",deposite_amt)\n",
    "            \n",
    "        else:\n",
    "            print(\"location_type not available\")\n",
    "            \n",
    "    elif deposite_type==\"debit\":\n",
    "        if location_type==\"metro\":\n",
    "            add_amount=deposite_amt*.10\n",
    "            deposite_amt=deposite_amt-add_amount\n",
    "            if citizenship>60:\n",
    "                deposite_amt=deposite_amt+100 \n",
    "                print(\" the final deposited amount\",deposite_amt)\n",
    "                \n",
    "            elif citizenship<60:\n",
    "                deposite_amt=deposite_amt\n",
    "                print(\" the final deposited amount\",deposite_amt)\n",
    "        elif location_type==\"nonmetro\":\n",
    "            add_amount=deposite_amt*.05\n",
    "            deposite_amt=deposite_amt-add_amount\n",
    "            \n",
    "            if citizenship>60:\n",
    "                deposite_amt=deposite_amt+100   \n",
    "                print(\" the final deposited amount\",deposite_amt)\n",
    "                \n",
    "            elif citizenship<60:\n",
    "                deposite_amt=deposite_amt\n",
    "                print(\" the final deposited amount\",deposite_amt)\n",
    "        else:\n",
    "            print(\"location_type not available\")\n",
    "    else:\n",
    "        print(\" deposite_type not available \")\n",
    "        \n",
    "    \n",
    "else:\n",
    "    print(\" customer is not available\")"
   ]
  }
 ],
 "metadata": {
  "kernelspec": {
   "display_name": "Python 3 (ipykernel)",
   "language": "python",
   "name": "python3"
  },
  "language_info": {
   "codemirror_mode": {
    "name": "ipython",
    "version": 3
   },
   "file_extension": ".py",
   "mimetype": "text/x-python",
   "name": "python",
   "nbconvert_exporter": "python",
   "pygments_lexer": "ipython3",
   "version": "3.10.9"
  }
 },
 "nbformat": 4,
 "nbformat_minor": 5
}
