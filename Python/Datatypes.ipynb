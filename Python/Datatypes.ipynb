{
 "cells": [
  {
   "cell_type": "code",
   "execution_count": 1,
   "id": "a7a1bb82",
   "metadata": {},
   "outputs": [
    {
     "name": "stdout",
     "output_type": "stream",
     "text": [
      "this is test\n"
     ]
    }
   ],
   "source": []
  },
  {
   "cell_type": "code",
   "execution_count": 2,
   "id": "a58b31d9",
   "metadata": {},
   "outputs": [
    {
     "name": "stdout",
     "output_type": "stream",
     "text": [
      "this is test2\n"
     ]
    }
   ],
   "source": [
    "print(\"this is test2\")"
   ]
  },
  {
   "cell_type": "code",
   "execution_count": null,
   "id": "32cf439d",
   "metadata": {},
   "outputs": [],
   "source": [
    "Ctrl+enter"
   ]
  },
  {
   "cell_type": "code",
   "execution_count": null,
   "id": "1d4d44ec",
   "metadata": {},
   "outputs": [],
   "source": [
    "varaible"
   ]
  },
  {
   "cell_type": "code",
   "execution_count": null,
   "id": "d18c0324",
   "metadata": {},
   "outputs": [],
   "source": [
    "varaiblename  "
   ]
  },
  {
   "cell_type": "code",
   "execution_count": null,
   "id": "d6ec28f9",
   "metadata": {},
   "outputs": [],
   "source": [
    "a-z,charac+num,sepcial _"
   ]
  },
  {
   "cell_type": "code",
   "execution_count": null,
   "id": "d572d449",
   "metadata": {},
   "outputs": [],
   "source": [
    "variablename = value(int,float,str)"
   ]
  },
  {
   "cell_type": "code",
   "execution_count": null,
   "id": "ddae744d",
   "metadata": {},
   "outputs": [],
   "source": [
    "int---data types"
   ]
  },
  {
   "cell_type": "code",
   "execution_count": 3,
   "id": "880dd0d8",
   "metadata": {},
   "outputs": [],
   "source": [
    "sales = 100"
   ]
  },
  {
   "cell_type": "code",
   "execution_count": 4,
   "id": "18b81690",
   "metadata": {},
   "outputs": [
    {
     "data": {
      "text/plain": [
       "100"
      ]
     },
     "execution_count": 4,
     "metadata": {},
     "output_type": "execute_result"
    }
   ],
   "source": [
    "sales"
   ]
  },
  {
   "cell_type": "code",
   "execution_count": 5,
   "id": "d4e64cbf",
   "metadata": {},
   "outputs": [
    {
     "name": "stdout",
     "output_type": "stream",
     "text": [
      "today my milk sales value is : 100\n"
     ]
    }
   ],
   "source": [
    "print(\"today my milk sales value is :\",sales)"
   ]
  },
  {
   "cell_type": "code",
   "execution_count": 6,
   "id": "b30fc00c",
   "metadata": {},
   "outputs": [
    {
     "data": {
      "text/plain": [
       "int"
      ]
     },
     "execution_count": 6,
     "metadata": {},
     "output_type": "execute_result"
    }
   ],
   "source": [
    "type(sales)"
   ]
  },
  {
   "cell_type": "code",
   "execution_count": null,
   "id": "d1b4b4e5",
   "metadata": {},
   "outputs": [],
   "source": [
    "sales = 100"
   ]
  },
  {
   "cell_type": "code",
   "execution_count": 7,
   "id": "28ff21e2",
   "metadata": {},
   "outputs": [],
   "source": [
    "value=230"
   ]
  },
  {
   "cell_type": "code",
   "execution_count": 8,
   "id": "504c05e4",
   "metadata": {},
   "outputs": [
    {
     "data": {
      "text/plain": [
       "230"
      ]
     },
     "execution_count": 8,
     "metadata": {},
     "output_type": "execute_result"
    }
   ],
   "source": [
    "value"
   ]
  },
  {
   "cell_type": "code",
   "execution_count": 9,
   "id": "41d01257",
   "metadata": {},
   "outputs": [
    {
     "name": "stdout",
     "output_type": "stream",
     "text": [
      "230\n"
     ]
    }
   ],
   "source": [
    "print(value)"
   ]
  },
  {
   "cell_type": "code",
   "execution_count": 10,
   "id": "e9070ad1",
   "metadata": {},
   "outputs": [
    {
     "name": "stdout",
     "output_type": "stream",
     "text": [
      "****** this is my runscore******* 230\n"
     ]
    }
   ],
   "source": [
    "print(\"****** this is my runscore*******\",value)"
   ]
  },
  {
   "cell_type": "code",
   "execution_count": null,
   "id": "219f6943",
   "metadata": {},
   "outputs": [],
   "source": [
    "float----datatypes  firstpart.secondpart"
   ]
  },
  {
   "cell_type": "code",
   "execution_count": null,
   "id": "678928b5",
   "metadata": {},
   "outputs": [],
   "source": [
    "variable = value"
   ]
  },
  {
   "cell_type": "code",
   "execution_count": 11,
   "id": "9fe1a500",
   "metadata": {},
   "outputs": [],
   "source": [
    "avgmilksale=123.9876"
   ]
  },
  {
   "cell_type": "code",
   "execution_count": 12,
   "id": "f0cc8afe",
   "metadata": {},
   "outputs": [
    {
     "data": {
      "text/plain": [
       "123.9876"
      ]
     },
     "execution_count": 12,
     "metadata": {},
     "output_type": "execute_result"
    }
   ],
   "source": [
    "avgmilksale"
   ]
  },
  {
   "cell_type": "code",
   "execution_count": 13,
   "id": "53e67d40",
   "metadata": {},
   "outputs": [
    {
     "name": "stdout",
     "output_type": "stream",
     "text": [
      " this is today business value 123.9876\n"
     ]
    }
   ],
   "source": [
    "print(\" this is today business value\",avgmilksale)"
   ]
  },
  {
   "cell_type": "code",
   "execution_count": 14,
   "id": "8bf08c1e",
   "metadata": {},
   "outputs": [
    {
     "data": {
      "text/plain": [
       "float"
      ]
     },
     "execution_count": 14,
     "metadata": {},
     "output_type": "execute_result"
    }
   ],
   "source": [
    "type(avgmilksale)"
   ]
  },
  {
   "cell_type": "code",
   "execution_count": 15,
   "id": "4f74bbd3",
   "metadata": {},
   "outputs": [],
   "source": [
    "avgrunscore=45.897"
   ]
  },
  {
   "cell_type": "code",
   "execution_count": 16,
   "id": "e4145cab",
   "metadata": {},
   "outputs": [
    {
     "data": {
      "text/plain": [
       "45.897"
      ]
     },
     "execution_count": 16,
     "metadata": {},
     "output_type": "execute_result"
    }
   ],
   "source": [
    "avgrunscore"
   ]
  },
  {
   "cell_type": "code",
   "execution_count": 17,
   "id": "63fe6ee9",
   "metadata": {},
   "outputs": [
    {
     "name": "stdout",
     "output_type": "stream",
     "text": [
      " this is my run avg score in every match: 45.897\n"
     ]
    }
   ],
   "source": [
    "print(\" this is my run avg score in every match:\",avgrunscore)"
   ]
  },
  {
   "cell_type": "code",
   "execution_count": null,
   "id": "a005750b",
   "metadata": {},
   "outputs": [],
   "source": [
    "string-datatypes ----"
   ]
  },
  {
   "cell_type": "code",
   "execution_count": null,
   "id": "70f3b975",
   "metadata": {},
   "outputs": [],
   "source": [
    "variable = value"
   ]
  },
  {
   "cell_type": "code",
   "execution_count": 18,
   "id": "13119434",
   "metadata": {},
   "outputs": [],
   "source": [
    "name = 'param'"
   ]
  },
  {
   "cell_type": "code",
   "execution_count": 19,
   "id": "f1342680",
   "metadata": {},
   "outputs": [
    {
     "data": {
      "text/plain": [
       "'param'"
      ]
     },
     "execution_count": 19,
     "metadata": {},
     "output_type": "execute_result"
    }
   ],
   "source": [
    "name"
   ]
  },
  {
   "cell_type": "code",
   "execution_count": 20,
   "id": "bb98a471",
   "metadata": {},
   "outputs": [
    {
     "name": "stdout",
     "output_type": "stream",
     "text": [
      " this is my name param\n"
     ]
    }
   ],
   "source": [
    "print(\" this is my name\",name)"
   ]
  },
  {
   "cell_type": "code",
   "execution_count": 21,
   "id": "cda745c7",
   "metadata": {},
   "outputs": [],
   "source": [
    "name = \"param\""
   ]
  },
  {
   "cell_type": "code",
   "execution_count": 22,
   "id": "ba7a8f03",
   "metadata": {},
   "outputs": [
    {
     "data": {
      "text/plain": [
       "'param'"
      ]
     },
     "execution_count": 22,
     "metadata": {},
     "output_type": "execute_result"
    }
   ],
   "source": [
    "name"
   ]
  },
  {
   "cell_type": "code",
   "execution_count": 23,
   "id": "c17737fa",
   "metadata": {},
   "outputs": [
    {
     "name": "stdout",
     "output_type": "stream",
     "text": [
      " this is my name param\n"
     ]
    }
   ],
   "source": [
    "print(\" this is my name\",name)"
   ]
  },
  {
   "cell_type": "code",
   "execution_count": 24,
   "id": "b3cb91ce",
   "metadata": {},
   "outputs": [],
   "source": [
    "name = \"param athma\""
   ]
  },
  {
   "cell_type": "code",
   "execution_count": 25,
   "id": "45c8cf1a",
   "metadata": {},
   "outputs": [
    {
     "data": {
      "text/plain": [
       "'param athma'"
      ]
     },
     "execution_count": 25,
     "metadata": {},
     "output_type": "execute_result"
    }
   ],
   "source": [
    "name"
   ]
  },
  {
   "cell_type": "code",
   "execution_count": 26,
   "id": "115dfec4",
   "metadata": {},
   "outputs": [
    {
     "name": "stdout",
     "output_type": "stream",
     "text": [
      " this is my name param athma\n"
     ]
    }
   ],
   "source": [
    "print(\" this is my name\",name)"
   ]
  },
  {
   "cell_type": "code",
   "execution_count": 27,
   "id": "ff54d089",
   "metadata": {},
   "outputs": [
    {
     "data": {
      "text/plain": [
       "str"
      ]
     },
     "execution_count": 27,
     "metadata": {},
     "output_type": "execute_result"
    }
   ],
   "source": [
    "type(name)"
   ]
  },
  {
   "cell_type": "code",
   "execution_count": 1,
   "id": "655c7666",
   "metadata": {},
   "outputs": [],
   "source": [
    "story = ''' this is my first story\n",
    "this is first line in my story\n",
    "this is second line in my story\n",
    "'''"
   ]
  },
  {
   "cell_type": "code",
   "execution_count": 2,
   "id": "35e7aecb",
   "metadata": {},
   "outputs": [
    {
     "data": {
      "text/plain": [
       "' this is my first story\\nthis is first line in my story\\nthis is second line in my story\\n'"
      ]
     },
     "execution_count": 2,
     "metadata": {},
     "output_type": "execute_result"
    }
   ],
   "source": [
    "story"
   ]
  },
  {
   "cell_type": "code",
   "execution_count": 3,
   "id": "796073f3",
   "metadata": {},
   "outputs": [
    {
     "name": "stdout",
     "output_type": "stream",
     "text": [
      " this is my first story\n",
      "this is first line in my story\n",
      "this is second line in my story\n",
      "\n"
     ]
    }
   ],
   "source": [
    "print(story)"
   ]
  },
  {
   "cell_type": "code",
   "execution_count": 4,
   "id": "a5b95f77",
   "metadata": {},
   "outputs": [],
   "source": [
    "string_address=\"doorno: 6-88,patanpet, guduru mandal, vijayawada\""
   ]
  },
  {
   "cell_type": "code",
   "execution_count": 5,
   "id": "164eec43",
   "metadata": {},
   "outputs": [
    {
     "data": {
      "text/plain": [
       "'doorno: 6-88,patanpet, guduru mandal, vijayawada'"
      ]
     },
     "execution_count": 5,
     "metadata": {},
     "output_type": "execute_result"
    }
   ],
   "source": [
    "string_address"
   ]
  },
  {
   "cell_type": "code",
   "execution_count": 6,
   "id": "0a6378c2",
   "metadata": {},
   "outputs": [
    {
     "name": "stdout",
     "output_type": "stream",
     "text": [
      "doorno: 6-88,patanpet, guduru mandal, vijayawada\n"
     ]
    }
   ],
   "source": [
    "print(string_address)"
   ]
  },
  {
   "cell_type": "code",
   "execution_count": 7,
   "id": "51016596",
   "metadata": {},
   "outputs": [
    {
     "data": {
      "text/plain": [
       "str"
      ]
     },
     "execution_count": 7,
     "metadata": {},
     "output_type": "execute_result"
    }
   ],
   "source": [
    "type(string_address)"
   ]
  },
  {
   "cell_type": "code",
   "execution_count": null,
   "id": "af6b66de",
   "metadata": {},
   "outputs": [],
   "source": [
    "sequence data type ----List"
   ]
  },
  {
   "cell_type": "code",
   "execution_count": null,
   "id": "9a952602",
   "metadata": {},
   "outputs": [],
   "source": [
    "list --slicing ,replace "
   ]
  },
  {
   "cell_type": "code",
   "execution_count": 8,
   "id": "51fd3f25",
   "metadata": {},
   "outputs": [],
   "source": [
    "names = ['param' 0,'atma' 1,'ravi' 2,'raju' 3,'kishore' 4,'ashok' 5]"
   ]
  },
  {
   "cell_type": "code",
   "execution_count": 9,
   "id": "da31b20e",
   "metadata": {},
   "outputs": [
    {
     "data": {
      "text/plain": [
       "['param', 'atma', 'ravi', 'raju', 'kishore', 'ashok']"
      ]
     },
     "execution_count": 9,
     "metadata": {},
     "output_type": "execute_result"
    }
   ],
   "source": [
    "names"
   ]
  },
  {
   "cell_type": "code",
   "execution_count": 10,
   "id": "aa6eb968",
   "metadata": {},
   "outputs": [
    {
     "name": "stdout",
     "output_type": "stream",
     "text": [
      "['param', 'atma', 'ravi', 'raju', 'kishore', 'ashok']\n"
     ]
    }
   ],
   "source": [
    "print(names)"
   ]
  },
  {
   "cell_type": "code",
   "execution_count": null,
   "id": "e254da8f",
   "metadata": {},
   "outputs": [],
   "source": [
    "slicing--> index number--> 0 -inf"
   ]
  },
  {
   "cell_type": "code",
   "execution_count": null,
   "id": "ab92e153",
   "metadata": {},
   "outputs": [],
   "source": [
    "names[index_number]"
   ]
  },
  {
   "cell_type": "code",
   "execution_count": null,
   "id": "771bd80f",
   "metadata": {},
   "outputs": [],
   "source": [
    "starting to ending positive/index, ending to starting/negative index  ,in between slicing either positive/negative index number"
   ]
  },
  {
   "cell_type": "code",
   "execution_count": 11,
   "id": "43de1f41",
   "metadata": {},
   "outputs": [
    {
     "data": {
      "text/plain": [
       "'param'"
      ]
     },
     "execution_count": 11,
     "metadata": {},
     "output_type": "execute_result"
    }
   ],
   "source": [
    "names[0]"
   ]
  },
  {
   "cell_type": "code",
   "execution_count": 12,
   "id": "280222af",
   "metadata": {},
   "outputs": [
    {
     "data": {
      "text/plain": [
       "'ashok'"
      ]
     },
     "execution_count": 12,
     "metadata": {},
     "output_type": "execute_result"
    }
   ],
   "source": [
    "names[5]"
   ]
  },
  {
   "cell_type": "code",
   "execution_count": null,
   "id": "ba9011ef",
   "metadata": {},
   "outputs": [],
   "source": [
    "names = ['param' 0/-6,'atma' 1/-5,'ravi' 2/-4,'raju' 3/-3,'kishore' 4 /-2,'ashok' 5/-1]"
   ]
  },
  {
   "cell_type": "code",
   "execution_count": 13,
   "id": "418b33aa",
   "metadata": {},
   "outputs": [
    {
     "data": {
      "text/plain": [
       "'ashok'"
      ]
     },
     "execution_count": 13,
     "metadata": {},
     "output_type": "execute_result"
    }
   ],
   "source": [
    "names[-1]"
   ]
  },
  {
   "cell_type": "code",
   "execution_count": 14,
   "id": "07ff25bd",
   "metadata": {},
   "outputs": [
    {
     "data": {
      "text/plain": [
       "'param'"
      ]
     },
     "execution_count": 14,
     "metadata": {},
     "output_type": "execute_result"
    }
   ],
   "source": [
    "names[-6]"
   ]
  },
  {
   "cell_type": "code",
   "execution_count": null,
   "id": "031425ba",
   "metadata": {},
   "outputs": [],
   "source": [
    "names[starting position : end position+1]"
   ]
  },
  {
   "cell_type": "code",
   "execution_count": 15,
   "id": "4d5d1f5a",
   "metadata": {},
   "outputs": [
    {
     "data": {
      "text/plain": [
       "['atma', 'ravi', 'raju']"
      ]
     },
     "execution_count": 15,
     "metadata": {},
     "output_type": "execute_result"
    }
   ],
   "source": [
    "names[1:4]"
   ]
  },
  {
   "cell_type": "code",
   "execution_count": 16,
   "id": "93a665d4",
   "metadata": {},
   "outputs": [
    {
     "data": {
      "text/plain": [
       "['atma', 'ravi', 'raju', 'kishore']"
      ]
     },
     "execution_count": 16,
     "metadata": {},
     "output_type": "execute_result"
    }
   ],
   "source": [
    "names[1:5]"
   ]
  },
  {
   "cell_type": "code",
   "execution_count": 17,
   "id": "86688266",
   "metadata": {},
   "outputs": [
    {
     "data": {
      "text/plain": [
       "['atma', 'ravi', 'raju', 'kishore']"
      ]
     },
     "execution_count": 17,
     "metadata": {},
     "output_type": "execute_result"
    }
   ],
   "source": [
    "names[1:4+1]"
   ]
  },
  {
   "cell_type": "code",
   "execution_count": 18,
   "id": "a2d5b125",
   "metadata": {},
   "outputs": [
    {
     "data": {
      "text/plain": [
       "[]"
      ]
     },
     "execution_count": 18,
     "metadata": {},
     "output_type": "execute_result"
    }
   ],
   "source": [
    "names[-2 : -5]"
   ]
  },
  {
   "cell_type": "code",
   "execution_count": null,
   "id": "da86df96",
   "metadata": {},
   "outputs": [],
   "source": [
    "names = ['param' 0/-6,'atma' 1/-5,'ravi' 2/-4,'raju' 3/-3,'kishore' 4 /-2,'ashok' 5/-1]"
   ]
  },
  {
   "cell_type": "code",
   "execution_count": 21,
   "id": "87732d8b",
   "metadata": {},
   "outputs": [
    {
     "data": {
      "text/plain": [
       "['atma', 'ravi', 'raju']"
      ]
     },
     "execution_count": 21,
     "metadata": {},
     "output_type": "execute_result"
    }
   ],
   "source": [
    "names[-5 : -2]"
   ]
  },
  {
   "cell_type": "code",
   "execution_count": 22,
   "id": "7f7b9f51",
   "metadata": {},
   "outputs": [
    {
     "data": {
      "text/plain": [
       "['atma', 'ravi', 'raju', 'kishore']"
      ]
     },
     "execution_count": 22,
     "metadata": {},
     "output_type": "execute_result"
    }
   ],
   "source": [
    "names[-5 : -1]"
   ]
  },
  {
   "cell_type": "code",
   "execution_count": null,
   "id": "190d3719",
   "metadata": {},
   "outputs": [],
   "source": [
    "names = ['param' 0/-6,'atma' 1/-5,'ravi' 2/-4,'raju' 3/-3,'kishore' 4 /-2,'ashok' 5/-1]"
   ]
  },
  {
   "cell_type": "code",
   "execution_count": null,
   "id": "5e3bfe89",
   "metadata": {},
   "outputs": [],
   "source": [
    "start position--know endposition ?"
   ]
  },
  {
   "cell_type": "code",
   "execution_count": null,
   "id": "9ec0fca3",
   "metadata": {},
   "outputs": [],
   "source": [
    "names [ 1: last index ]"
   ]
  },
  {
   "cell_type": "code",
   "execution_count": 23,
   "id": "fb5d655d",
   "metadata": {},
   "outputs": [
    {
     "data": {
      "text/plain": [
       "['atma', 'ravi', 'raju', 'kishore', 'ashok']"
      ]
     },
     "execution_count": 23,
     "metadata": {},
     "output_type": "execute_result"
    }
   ],
   "source": [
    "names[1:]"
   ]
  },
  {
   "cell_type": "code",
   "execution_count": 24,
   "id": "5187f3d7",
   "metadata": {},
   "outputs": [
    {
     "data": {
      "text/plain": [
       "['atma', 'ravi', 'raju', 'kishore', 'ashok']"
      ]
     },
     "execution_count": 24,
     "metadata": {},
     "output_type": "execute_result"
    }
   ],
   "source": [
    "names[-5: ]"
   ]
  },
  {
   "cell_type": "code",
   "execution_count": 26,
   "id": "7a69f047",
   "metadata": {},
   "outputs": [
    {
     "data": {
      "text/plain": [
       "['param', 'atma', 'ravi', 'raju', 'kishore']"
      ]
     },
     "execution_count": 26,
     "metadata": {},
     "output_type": "execute_result"
    }
   ],
   "source": [
    "names[ : -1]"
   ]
  },
  {
   "cell_type": "code",
   "execution_count": 27,
   "id": "2d321914",
   "metadata": {},
   "outputs": [],
   "source": [
    "names[1]=\"athma\""
   ]
  },
  {
   "cell_type": "code",
   "execution_count": null,
   "id": "f366ef8f",
   "metadata": {},
   "outputs": [],
   "source": []
  },
  {
   "cell_type": "code",
   "execution_count": 28,
   "id": "0c28ce00",
   "metadata": {},
   "outputs": [
    {
     "data": {
      "text/plain": [
       "['param', 'athma', 'ravi', 'raju', 'kishore', 'ashok']"
      ]
     },
     "execution_count": 28,
     "metadata": {},
     "output_type": "execute_result"
    }
   ],
   "source": [
    "names"
   ]
  },
  {
   "cell_type": "code",
   "execution_count": 29,
   "id": "ebe9ed38",
   "metadata": {},
   "outputs": [],
   "source": [
    "names[1]=20"
   ]
  },
  {
   "cell_type": "code",
   "execution_count": 30,
   "id": "0e089200",
   "metadata": {},
   "outputs": [
    {
     "data": {
      "text/plain": [
       "['param', 20, 'ravi', 'raju', 'kishore', 'ashok']"
      ]
     },
     "execution_count": 30,
     "metadata": {},
     "output_type": "execute_result"
    }
   ],
   "source": [
    "names"
   ]
  },
  {
   "cell_type": "code",
   "execution_count": null,
   "id": "7d7edf5c",
   "metadata": {},
   "outputs": [],
   "source": [
    "tuple ---values not replaced /immutable "
   ]
  },
  {
   "cell_type": "code",
   "execution_count": 31,
   "id": "b596c6bf",
   "metadata": {},
   "outputs": [],
   "source": [
    "names=(\"param\" 0/-4,'atma' 1/-3,\"ravi\" 2/-2,\"raju\" 3/-1)"
   ]
  },
  {
   "cell_type": "code",
   "execution_count": 32,
   "id": "f3ce827d",
   "metadata": {},
   "outputs": [
    {
     "data": {
      "text/plain": [
       "('param', 'atma', 'ravi', 'raju')"
      ]
     },
     "execution_count": 32,
     "metadata": {},
     "output_type": "execute_result"
    }
   ],
   "source": [
    "names"
   ]
  },
  {
   "cell_type": "code",
   "execution_count": null,
   "id": "006f1388",
   "metadata": {},
   "outputs": [],
   "source": [
    "slicing--"
   ]
  },
  {
   "cell_type": "code",
   "execution_count": 33,
   "id": "18cf1c7d",
   "metadata": {},
   "outputs": [
    {
     "data": {
      "text/plain": [
       "'param'"
      ]
     },
     "execution_count": 33,
     "metadata": {},
     "output_type": "execute_result"
    }
   ],
   "source": [
    "names[0]"
   ]
  },
  {
   "cell_type": "code",
   "execution_count": 34,
   "id": "0ba485d4",
   "metadata": {},
   "outputs": [
    {
     "data": {
      "text/plain": [
       "'raju'"
      ]
     },
     "execution_count": 34,
     "metadata": {},
     "output_type": "execute_result"
    }
   ],
   "source": [
    "names[-1]"
   ]
  },
  {
   "cell_type": "code",
   "execution_count": 35,
   "id": "3206eeff",
   "metadata": {},
   "outputs": [
    {
     "data": {
      "text/plain": [
       "('atma', 'ravi')"
      ]
     },
     "execution_count": 35,
     "metadata": {},
     "output_type": "execute_result"
    }
   ],
   "source": [
    "names[1:3]"
   ]
  },
  {
   "cell_type": "code",
   "execution_count": null,
   "id": "6a11ed92",
   "metadata": {},
   "outputs": [],
   "source": [
    "names=(\"param\" 0/-4,'atma' 1/-3,\"ravi\" 2/-2,\"raju\" 3/-1)"
   ]
  },
  {
   "cell_type": "code",
   "execution_count": 38,
   "id": "006df218",
   "metadata": {},
   "outputs": [
    {
     "data": {
      "text/plain": [
       "('atma',)"
      ]
     },
     "execution_count": 38,
     "metadata": {},
     "output_type": "execute_result"
    }
   ],
   "source": [
    "names[1:-2]"
   ]
  },
  {
   "cell_type": "code",
   "execution_count": 39,
   "id": "cf49a0d2",
   "metadata": {},
   "outputs": [],
   "source": [
    "score=(10,20,30,40)"
   ]
  },
  {
   "cell_type": "code",
   "execution_count": 40,
   "id": "5ccff6b8",
   "metadata": {},
   "outputs": [
    {
     "data": {
      "text/plain": [
       "10"
      ]
     },
     "execution_count": 40,
     "metadata": {},
     "output_type": "execute_result"
    }
   ],
   "source": [
    "score[0]"
   ]
  },
  {
   "cell_type": "code",
   "execution_count": 41,
   "id": "95fa5b05",
   "metadata": {},
   "outputs": [
    {
     "data": {
      "text/plain": [
       "(10, 20, 30)"
      ]
     },
     "execution_count": 41,
     "metadata": {},
     "output_type": "execute_result"
    }
   ],
   "source": [
    "score[0:3]"
   ]
  },
  {
   "cell_type": "code",
   "execution_count": 36,
   "id": "99d797a4",
   "metadata": {},
   "outputs": [
    {
     "ename": "TypeError",
     "evalue": "'tuple' object does not support item assignment",
     "output_type": "error",
     "traceback": [
      "\u001b[1;31m---------------------------------------------------------------------------\u001b[0m",
      "\u001b[1;31mTypeError\u001b[0m                                 Traceback (most recent call last)",
      "Cell \u001b[1;32mIn[36], line 1\u001b[0m\n\u001b[1;32m----> 1\u001b[0m names[\u001b[38;5;241m1\u001b[39m]\u001b[38;5;241m=\u001b[39m\u001b[38;5;124m'\u001b[39m\u001b[38;5;124mathma\u001b[39m\u001b[38;5;124m'\u001b[39m\n",
      "\u001b[1;31mTypeError\u001b[0m: 'tuple' object does not support item assignment"
     ]
    }
   ],
   "source": [
    "names[1]='athma'"
   ]
  },
  {
   "cell_type": "code",
   "execution_count": null,
   "id": "033593ec",
   "metadata": {},
   "outputs": [],
   "source": [
    "set ----> "
   ]
  },
  {
   "cell_type": "code",
   "execution_count": 1,
   "id": "b92dcf1c",
   "metadata": {},
   "outputs": [],
   "source": [
    "set_names={\"ravi\",\"raju\",\"keerthi\",\"ramesh\",\"ramesh\"}"
   ]
  },
  {
   "cell_type": "code",
   "execution_count": 2,
   "id": "a4d57e57",
   "metadata": {},
   "outputs": [
    {
     "data": {
      "text/plain": [
       "{'keerthi', 'raju', 'ramesh', 'ravi'}"
      ]
     },
     "execution_count": 2,
     "metadata": {},
     "output_type": "execute_result"
    }
   ],
   "source": [
    "set_names--default ascending  0-9,a-z,num,char,duplicates "
   ]
  },
  {
   "cell_type": "code",
   "execution_count": 3,
   "id": "8fb46d38",
   "metadata": {},
   "outputs": [],
   "source": [
    "set_alpha={\"a\",\"b\",\"d\",\"e\",\"f\",\"z\",\"y\",\"x\"}"
   ]
  },
  {
   "cell_type": "code",
   "execution_count": 4,
   "id": "33542025",
   "metadata": {},
   "outputs": [
    {
     "data": {
      "text/plain": [
       "{'a', 'b', 'd', 'e', 'f', 'x', 'y', 'z'}"
      ]
     },
     "execution_count": 4,
     "metadata": {},
     "output_type": "execute_result"
    }
   ],
   "source": [
    "set_alpha"
   ]
  },
  {
   "cell_type": "code",
   "execution_count": 5,
   "id": "4393405a",
   "metadata": {},
   "outputs": [],
   "source": [
    "set_num={10,11,20,34,56,78,2,10}"
   ]
  },
  {
   "cell_type": "code",
   "execution_count": 6,
   "id": "9987d7a8",
   "metadata": {},
   "outputs": [
    {
     "data": {
      "text/plain": [
       "{2, 10, 11, 20, 34, 56, 78}"
      ]
     },
     "execution_count": 6,
     "metadata": {},
     "output_type": "execute_result"
    }
   ],
   "source": [
    "set_num"
   ]
  },
  {
   "cell_type": "code",
   "execution_count": 7,
   "id": "b6ac6dd1",
   "metadata": {},
   "outputs": [],
   "source": [
    "set_mixed={\"z\",20,\"a\",10}"
   ]
  },
  {
   "cell_type": "code",
   "execution_count": 8,
   "id": "56392e3f",
   "metadata": {},
   "outputs": [
    {
     "data": {
      "text/plain": [
       "{10, 20, 'a', 'z'}"
      ]
     },
     "execution_count": 8,
     "metadata": {},
     "output_type": "execute_result"
    }
   ],
   "source": [
    "set_mixed\n"
   ]
  },
  {
   "cell_type": "code",
   "execution_count": null,
   "id": "7fdca41c",
   "metadata": {},
   "outputs": [],
   "source": [
    "slice\n",
    "values replace"
   ]
  },
  {
   "cell_type": "code",
   "execution_count": null,
   "id": "af5a6de2",
   "metadata": {},
   "outputs": [],
   "source": [
    "set_num={10,11,20,34,56,78,2,10}"
   ]
  },
  {
   "cell_type": "code",
   "execution_count": 9,
   "id": "4335c10e",
   "metadata": {},
   "outputs": [
    {
     "ename": "TypeError",
     "evalue": "'set' object is not subscriptable",
     "output_type": "error",
     "traceback": [
      "\u001b[1;31m---------------------------------------------------------------------------\u001b[0m",
      "\u001b[1;31mTypeError\u001b[0m                                 Traceback (most recent call last)",
      "Cell \u001b[1;32mIn[9], line 1\u001b[0m\n\u001b[1;32m----> 1\u001b[0m \u001b[43mset_num\u001b[49m\u001b[43m[\u001b[49m\u001b[38;5;241;43m3\u001b[39;49m\u001b[43m]\u001b[49m\n",
      "\u001b[1;31mTypeError\u001b[0m: 'set' object is not subscriptable"
     ]
    }
   ],
   "source": [
    "set_num[3]"
   ]
  },
  {
   "cell_type": "code",
   "execution_count": 10,
   "id": "b67e8e98",
   "metadata": {},
   "outputs": [
    {
     "ename": "TypeError",
     "evalue": "'set' object does not support item assignment",
     "output_type": "error",
     "traceback": [
      "\u001b[1;31m---------------------------------------------------------------------------\u001b[0m",
      "\u001b[1;31mTypeError\u001b[0m                                 Traceback (most recent call last)",
      "Cell \u001b[1;32mIn[10], line 1\u001b[0m\n\u001b[1;32m----> 1\u001b[0m set_num[\u001b[38;5;241m3\u001b[39m]\u001b[38;5;241m=\u001b[39m\u001b[38;5;241m40\u001b[39m\n",
      "\u001b[1;31mTypeError\u001b[0m: 'set' object does not support item assignment"
     ]
    }
   ],
   "source": [
    "set_num[3]=40"
   ]
  },
  {
   "cell_type": "code",
   "execution_count": null,
   "id": "506ff993",
   "metadata": {},
   "outputs": [],
   "source": [
    "dictionary ---dict---"
   ]
  },
  {
   "cell_type": "code",
   "execution_count": null,
   "id": "cfa87c68",
   "metadata": {},
   "outputs": [],
   "source": [
    "dict=={ \"keyname\": \"keyvalue\" }"
   ]
  },
  {
   "cell_type": "code",
   "execution_count": 11,
   "id": "68a3e81c",
   "metadata": {},
   "outputs": [],
   "source": [
    "dict_singlevalue={ \"names\" : \"ravi\"}"
   ]
  },
  {
   "cell_type": "code",
   "execution_count": 12,
   "id": "3b43ed6d",
   "metadata": {},
   "outputs": [
    {
     "data": {
      "text/plain": [
       "{'names': 'ravi'}"
      ]
     },
     "execution_count": 12,
     "metadata": {},
     "output_type": "execute_result"
    }
   ],
   "source": [
    "dict_singlevalue"
   ]
  },
  {
   "cell_type": "code",
   "execution_count": null,
   "id": "c827cbf4",
   "metadata": {},
   "outputs": [],
   "source": [
    "slicing, replacement"
   ]
  },
  {
   "cell_type": "code",
   "execution_count": 13,
   "id": "56552490",
   "metadata": {},
   "outputs": [
    {
     "data": {
      "text/plain": [
       "'ravi'"
      ]
     },
     "execution_count": 13,
     "metadata": {},
     "output_type": "execute_result"
    }
   ],
   "source": [
    "dict_singlevalue[\"names\"]"
   ]
  },
  {
   "cell_type": "code",
   "execution_count": null,
   "id": "e0fa975a",
   "metadata": {},
   "outputs": [],
   "source": [
    "dict_mult=={ \"keyname\": \"keyvalue\",\"keyname\":\"keyvalue\" }"
   ]
  },
  {
   "cell_type": "code",
   "execution_count": 14,
   "id": "4c94e677",
   "metadata": {},
   "outputs": [],
   "source": [
    "dict_mult={\"names\": \"ravi\",\"class\": \"10th\"}"
   ]
  },
  {
   "cell_type": "code",
   "execution_count": 15,
   "id": "a385e6f8",
   "metadata": {},
   "outputs": [
    {
     "data": {
      "text/plain": [
       "{'names': 'ravi', 'class': '10th'}"
      ]
     },
     "execution_count": 15,
     "metadata": {},
     "output_type": "execute_result"
    }
   ],
   "source": [
    "dict_mult"
   ]
  },
  {
   "cell_type": "code",
   "execution_count": 16,
   "id": "50d1769f",
   "metadata": {},
   "outputs": [
    {
     "data": {
      "text/plain": [
       "dict_keys(['names', 'class'])"
      ]
     },
     "execution_count": 16,
     "metadata": {},
     "output_type": "execute_result"
    }
   ],
   "source": [
    "dict_mult.keys()"
   ]
  },
  {
   "cell_type": "code",
   "execution_count": 17,
   "id": "f1826c77",
   "metadata": {},
   "outputs": [
    {
     "data": {
      "text/plain": [
       "'10th'"
      ]
     },
     "execution_count": 17,
     "metadata": {},
     "output_type": "execute_result"
    }
   ],
   "source": [
    "dict_mult['class']"
   ]
  },
  {
   "cell_type": "code",
   "execution_count": null,
   "id": "115a654c",
   "metadata": {},
   "outputs": [],
   "source": [
    "dict_mult={ \"keyname\": [val1,val2]/()/{},\"keyname2\":[\"val1,val2\"]/()/{}}"
   ]
  },
  {
   "cell_type": "code",
   "execution_count": 18,
   "id": "9b2e5c78",
   "metadata": {},
   "outputs": [],
   "source": [
    "dict_mult={\"names\": [\"ravi\",\"raju\",\"suresh\"], \"class\": [\"10th\",\"9th\",\"8th\"]}"
   ]
  },
  {
   "cell_type": "code",
   "execution_count": 19,
   "id": "57f6058f",
   "metadata": {},
   "outputs": [
    {
     "data": {
      "text/plain": [
       "{'names': ['ravi', 'raju', 'suresh'], 'class': ['10th', '9th', '8th']}"
      ]
     },
     "execution_count": 19,
     "metadata": {},
     "output_type": "execute_result"
    }
   ],
   "source": [
    "dict_mult"
   ]
  },
  {
   "cell_type": "code",
   "execution_count": 20,
   "id": "2b653391",
   "metadata": {},
   "outputs": [
    {
     "data": {
      "text/plain": [
       "dict_keys(['names', 'class'])"
      ]
     },
     "execution_count": 20,
     "metadata": {},
     "output_type": "execute_result"
    }
   ],
   "source": [
    "dict_mult.keys()"
   ]
  },
  {
   "cell_type": "code",
   "execution_count": 22,
   "id": "4f36b51a",
   "metadata": {},
   "outputs": [
    {
     "data": {
      "text/plain": [
       "'9th'"
      ]
     },
     "execution_count": 22,
     "metadata": {},
     "output_type": "execute_result"
    }
   ],
   "source": [
    "dict_mult[\"class\"][1]"
   ]
  },
  {
   "cell_type": "code",
   "execution_count": 23,
   "id": "f80b1bcc",
   "metadata": {},
   "outputs": [
    {
     "name": "stdout",
     "output_type": "stream",
     "text": [
      "this is candidate name suresh  class is 8th\n"
     ]
    }
   ],
   "source": [
    "print(\"this is candidate name\",dict_mult['names'][2],\" class is\",dict_mult[\"class\"][2])"
   ]
  },
  {
   "cell_type": "code",
   "execution_count": 24,
   "id": "ec60761a",
   "metadata": {},
   "outputs": [],
   "source": [
    "dict_mult1={\"names\": [\"ravi\",\"raju\",\"suresh\",\"abbas\"], \"class\": [\"10th\",\"9th\",\"8th\"]}"
   ]
  },
  {
   "cell_type": "code",
   "execution_count": 25,
   "id": "53000036",
   "metadata": {},
   "outputs": [
    {
     "data": {
      "text/plain": [
       "{'names': ['ravi', 'raju', 'suresh', 'abbas'], 'class': ['10th', '9th', '8th']}"
      ]
     },
     "execution_count": 25,
     "metadata": {},
     "output_type": "execute_result"
    }
   ],
   "source": [
    "dict_mult1"
   ]
  },
  {
   "cell_type": "code",
   "execution_count": 28,
   "id": "fff17648",
   "metadata": {},
   "outputs": [],
   "source": [
    "dict_mult1={\"names\": [\"ravi\",\"raju\",\"suresh\",\"abbas\"], \"class\": [\"10th\",\"9th\",\"8th\",\"\"]}"
   ]
  },
  {
   "cell_type": "code",
   "execution_count": 29,
   "id": "48bc275a",
   "metadata": {},
   "outputs": [
    {
     "data": {
      "text/plain": [
       "{'names': ['ravi', 'raju', 'suresh', 'abbas'],\n",
       " 'class': ['10th', '9th', '8th', '']}"
      ]
     },
     "execution_count": 29,
     "metadata": {},
     "output_type": "execute_result"
    }
   ],
   "source": [
    "dict_mult1"
   ]
  },
  {
   "cell_type": "code",
   "execution_count": null,
   "id": "42bb5b44",
   "metadata": {},
   "outputs": [],
   "source": [
    "data types--int 0-9, float 0-9 .decimal 0-9, str -a-z/''\"\" ''' ''' a-z,special,number, single values"
   ]
  },
  {
   "cell_type": "code",
   "execution_count": null,
   "id": "700a30af",
   "metadata": {},
   "outputs": [],
   "source": [
    "data types--sequence --list [],slicing,replace ,tuple (),slicing,replace not, set {},slicing,replace, unique sorting,\n",
    "dict tables/ {} keyname keyvalue keyvalue []/()/{}"
   ]
  }
 ],
 "metadata": {
  "kernelspec": {
   "display_name": "Python 3 (ipykernel)",
   "language": "python",
   "name": "python3"
  },
  "language_info": {
   "codemirror_mode": {
    "name": "ipython",
    "version": 3
   },
   "file_extension": ".py",
   "mimetype": "text/x-python",
   "name": "python",
   "nbconvert_exporter": "python",
   "pygments_lexer": "ipython3",
   "version": "3.10.9"
  }
 },
 "nbformat": 4,
 "nbformat_minor": 5
}
