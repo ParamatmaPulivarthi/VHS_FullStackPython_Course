{
 "cells": [
  {
   "cell_type": "code",
   "execution_count": null,
   "id": "9c307d01",
   "metadata": {},
   "outputs": [],
   "source": [
    "\n",
    "\n",
    "---while --- unlimits\n",
    "---do while\n",
    "-- do until\n",
    "\n",
    "---for loops --limit "
   ]
  },
  {
   "cell_type": "code",
   "execution_count": null,
   "id": "8981123e",
   "metadata": {},
   "outputs": [],
   "source": [
    "datatypes:   list, tuple, set, dict, arrays, pandas dataframe"
   ]
  },
  {
   "cell_type": "code",
   "execution_count": null,
   "id": "66fa5a98",
   "metadata": {},
   "outputs": [],
   "source": [
    "for loopingvariable/iterator/variable in datatypevariable(list/tuple/set/dict/dataframe/array):\n",
    "    statements\n",
    "    statements\n",
    "    statements"
   ]
  },
  {
   "cell_type": "code",
   "execution_count": 1,
   "id": "54a4ec01",
   "metadata": {},
   "outputs": [],
   "source": [
    "names=[\"param\",\"nivas\",\"athma\"]"
   ]
  },
  {
   "cell_type": "code",
   "execution_count": 2,
   "id": "0388bb8b",
   "metadata": {},
   "outputs": [
    {
     "data": {
      "text/plain": [
       "['param', 'nivas', 'athma']"
      ]
     },
     "execution_count": 2,
     "metadata": {},
     "output_type": "execute_result"
    }
   ],
   "source": [
    "names\n"
   ]
  },
  {
   "cell_type": "code",
   "execution_count": 3,
   "id": "51100085",
   "metadata": {},
   "outputs": [
    {
     "name": "stdout",
     "output_type": "stream",
     "text": [
      "param\n",
      "nivas\n",
      "athma\n"
     ]
    }
   ],
   "source": [
    "for i in names:\n",
    "    print(i)\n",
    "#     param\n",
    "#     nivas\n",
    "#     athma\n",
    "\n",
    "\n"
   ]
  },
  {
   "cell_type": "code",
   "execution_count": 5,
   "id": "8b7845cf",
   "metadata": {},
   "outputs": [],
   "source": [
    "score=[10,2,3,45,65,7,8,98,76,87]"
   ]
  },
  {
   "cell_type": "code",
   "execution_count": 7,
   "id": "1617d05c",
   "metadata": {},
   "outputs": [
    {
     "name": "stdout",
     "output_type": "stream",
     "text": [
      "10\n",
      "2\n",
      "3\n",
      "45\n",
      "65\n",
      "7\n",
      "8\n",
      "98\n",
      "76\n",
      "87\n"
     ]
    }
   ],
   "source": [
    "for scr in score:\n",
    "    print(scr)"
   ]
  },
  {
   "cell_type": "code",
   "execution_count": null,
   "id": "b9ef4be6",
   "metadata": {},
   "outputs": [],
   "source": [
    "addition 10 : values\n",
    "addition 10 : 20"
   ]
  },
  {
   "cell_type": "code",
   "execution_count": null,
   "id": "74a9155b",
   "metadata": {},
   "outputs": [],
   "source": [
    "for scr in score:\n",
    "    print(scr)"
   ]
  },
  {
   "cell_type": "code",
   "execution_count": null,
   "id": "5ea13cab",
   "metadata": {},
   "outputs": [],
   "source": [
    "score=[10,2,3,45,65,7,8,98,76,87]"
   ]
  },
  {
   "cell_type": "code",
   "execution_count": 8,
   "id": "9fe88ac7",
   "metadata": {},
   "outputs": [
    {
     "name": "stdout",
     "output_type": "stream",
     "text": [
      "addition 10 : 20\n",
      "addition 10 : 12\n",
      "addition 10 : 13\n",
      "addition 10 : 55\n",
      "addition 10 : 75\n",
      "addition 10 : 17\n",
      "addition 10 : 18\n",
      "addition 10 : 108\n",
      "addition 10 : 86\n",
      "addition 10 : 97\n"
     ]
    }
   ],
   "source": [
    "for scr in score:\n",
    "    print(\"addition 10 :\",scr+10)"
   ]
  },
  {
   "cell_type": "code",
   "execution_count": 9,
   "id": "38e29e81",
   "metadata": {},
   "outputs": [
    {
     "name": "stdout",
     "output_type": "stream",
     "text": [
      "addition 10: 10 20\n",
      "addition 10: 2 12\n",
      "addition 10: 3 13\n",
      "addition 10: 45 55\n",
      "addition 10: 65 75\n",
      "addition 10: 7 17\n",
      "addition 10: 8 18\n",
      "addition 10: 98 108\n",
      "addition 10: 76 86\n",
      "addition 10: 87 97\n"
     ]
    }
   ],
   "source": [
    "for scr in score:\n",
    "    print(\"addition 10:\",scr, scr+10)"
   ]
  },
  {
   "cell_type": "code",
   "execution_count": 10,
   "id": "b9babe91",
   "metadata": {},
   "outputs": [],
   "source": [
    "cricket=[56,45,100,112,30,0,50,65,23,0]"
   ]
  },
  {
   "cell_type": "code",
   "execution_count": null,
   "id": "918200be",
   "metadata": {},
   "outputs": [],
   "source": [
    "100 century \n",
    ">100 century+\n",
    "50 half century\n",
    ">50 100 half century above\n",
    "<50 near to 30's\n",
    "0 dock out "
   ]
  },
  {
   "cell_type": "code",
   "execution_count": null,
   "id": "cdf54543",
   "metadata": {},
   "outputs": [],
   "source": [
    "lower limit\n",
    "uperlimit\n",
    "\n",
    "10\n",
    "0-10=\n",
    "=10-20\n",
    "20-30"
   ]
  },
  {
   "cell_type": "code",
   "execution_count": null,
   "id": "2a9f027c",
   "metadata": {},
   "outputs": [],
   "source": [
    "cricket=[56,45,100,112,30,0,50,65,23,0]\n",
    "(\"half century above\")\n",
    "\"near to 30's\""
   ]
  },
  {
   "cell_type": "code",
   "execution_count": 13,
   "id": "ff4478cf",
   "metadata": {},
   "outputs": [
    {
     "name": "stdout",
     "output_type": "stream",
     "text": [
      "56\n",
      "half century above\n",
      "45\n",
      "near to 30's\n",
      "100\n",
      "century\n",
      "112\n",
      "century+\n",
      "30\n",
      "near to 30's\n",
      "0\n",
      "dock out \n",
      "50\n",
      "half century\n",
      "65\n",
      "half century above\n",
      "23\n",
      "near to 30's\n",
      "0\n",
      "dock out \n",
      "the loos is completed\n",
      "next logic is executing\n"
     ]
    }
   ],
   "source": [
    "for score in cricket:\n",
    "    print(score)\n",
    "    if score>100:\n",
    "        print(\"century+\")\n",
    "    elif score==100:\n",
    "        print(\"century\")\n",
    "    elif score==50:\n",
    "        print(\"half century\")\n",
    "    elif score>=50 and score<100 :\n",
    "        print(\"half century above\")\n",
    "    elif score>=1 and score<50 :\n",
    "        print(\"near to 30's\")\n",
    "    elif score==0 :\n",
    "        print(\"dock out \")\n",
    "    else:\n",
    "        print(\" tag not required\")\n",
    "print(\"the loos is completed\")\n",
    "print(\"next logic is executing\")"
   ]
  },
  {
   "cell_type": "code",
   "execution_count": null,
   "id": "b6331fa8",
   "metadata": {},
   "outputs": [],
   "source": [
    "value create---range()"
   ]
  },
  {
   "cell_type": "code",
   "execution_count": null,
   "id": "982fa351",
   "metadata": {},
   "outputs": [],
   "source": [
    "range(starting position 0 ,ending position mandatory,increment/decrement 1 2)"
   ]
  },
  {
   "cell_type": "code",
   "execution_count": 14,
   "id": "d4d5c6dd",
   "metadata": {},
   "outputs": [
    {
     "data": {
      "text/plain": [
       "range(0, 10)"
      ]
     },
     "execution_count": 14,
     "metadata": {},
     "output_type": "execute_result"
    }
   ],
   "source": [
    "range(0,10,1)"
   ]
  },
  {
   "cell_type": "code",
   "execution_count": null,
   "id": "51d1e7d6",
   "metadata": {},
   "outputs": [],
   "source": [
    "0,1,2,3,4,5,6,7,8,9"
   ]
  },
  {
   "cell_type": "code",
   "execution_count": 16,
   "id": "23ca8fc8",
   "metadata": {},
   "outputs": [
    {
     "name": "stdout",
     "output_type": "stream",
     "text": [
      "0\n",
      "1\n",
      "2\n",
      "3\n",
      "4\n",
      "5\n",
      "6\n",
      "7\n",
      "8\n",
      "9\n",
      "10\n"
     ]
    }
   ],
   "source": [
    "for i in range(0,11,1):\n",
    "    print(i)"
   ]
  },
  {
   "cell_type": "code",
   "execution_count": 17,
   "id": "cd283e0a",
   "metadata": {},
   "outputs": [
    {
     "name": "stdout",
     "output_type": "stream",
     "text": [
      "0\n",
      "1\n",
      "2\n",
      "3\n",
      "4\n",
      "5\n",
      "6\n",
      "7\n",
      "8\n",
      "9\n",
      "10\n"
     ]
    }
   ],
   "source": [
    "for i in range(11):\n",
    "    print(i)"
   ]
  },
  {
   "cell_type": "code",
   "execution_count": 19,
   "id": "1a8ba89f",
   "metadata": {},
   "outputs": [
    {
     "name": "stdout",
     "output_type": "stream",
     "text": [
      "0\n",
      "5\n",
      "10\n"
     ]
    }
   ],
   "source": [
    "for i in range(0,11,5):\n",
    "    print(i)"
   ]
  },
  {
   "cell_type": "code",
   "execution_count": 20,
   "id": "a330b32c",
   "metadata": {},
   "outputs": [],
   "source": [
    "lst=[1,2,3,4,5,6,7,8,9,10\n",
    "    \n",
    "    \n",
    "    \n",
    "    \n",
    "    \n",
    "    \n",
    "    \n",
    "    \n",
    "    \n",
    "    \n",
    "    \n",
    "    \n",
    "    \n",
    "    \n",
    "    \n",
    "    \n",
    "    \n",
    "    ]"
   ]
  },
  {
   "cell_type": "code",
   "execution_count": 21,
   "id": "d8043e88",
   "metadata": {},
   "outputs": [
    {
     "data": {
      "text/plain": [
       "10"
      ]
     },
     "execution_count": 21,
     "metadata": {},
     "output_type": "execute_result"
    }
   ],
   "source": [
    "len(lst)"
   ]
  },
  {
   "cell_type": "code",
   "execution_count": 24,
   "id": "757366eb",
   "metadata": {},
   "outputs": [
    {
     "name": "stdout",
     "output_type": "stream",
     "text": [
      "paramatma\n",
      "param\n",
      "param\n",
      "param\n",
      "param\n",
      "param\n",
      "param\n",
      "param\n",
      "param\n",
      "param\n"
     ]
    }
   ],
   "source": [
    "for i in range(len(lst)):\n",
    "    if i==0:\n",
    "        print(\"paramatma\")\n",
    "    else:\n",
    "        print(\"param\")\n",
    "    "
   ]
  },
  {
   "cell_type": "code",
   "execution_count": null,
   "id": "b184a16a",
   "metadata": {},
   "outputs": [],
   "source": [
    "for i in range(int):\n",
    "    "
   ]
  },
  {
   "cell_type": "code",
   "execution_count": 25,
   "id": "c1654e6a",
   "metadata": {},
   "outputs": [],
   "source": [
    "loop_value=23"
   ]
  },
  {
   "cell_type": "code",
   "execution_count": 26,
   "id": "07bb9bf6",
   "metadata": {},
   "outputs": [
    {
     "name": "stdout",
     "output_type": "stream",
     "text": [
      "0\n",
      "1\n",
      "2\n",
      "3\n",
      "4\n",
      "5\n",
      "6\n",
      "7\n",
      "8\n",
      "9\n",
      "10\n",
      "11\n",
      "12\n",
      "13\n",
      "14\n",
      "15\n",
      "16\n",
      "17\n",
      "18\n",
      "19\n",
      "20\n",
      "21\n",
      "22\n"
     ]
    }
   ],
   "source": [
    "for i in range(loop_value):\n",
    "    print(i)"
   ]
  }
 ],
 "metadata": {
  "kernelspec": {
   "display_name": "Python 3 (ipykernel)",
   "language": "python",
   "name": "python3"
  },
  "language_info": {
   "codemirror_mode": {
    "name": "ipython",
    "version": 3
   },
   "file_extension": ".py",
   "mimetype": "text/x-python",
   "name": "python",
   "nbconvert_exporter": "python",
   "pygments_lexer": "ipython3",
   "version": "3.10.9"
  }
 },
 "nbformat": 4,
 "nbformat_minor": 5
}
