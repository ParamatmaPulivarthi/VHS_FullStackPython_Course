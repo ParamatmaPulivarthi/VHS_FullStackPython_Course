{
 "cells": [
  {
   "cell_type": "code",
   "execution_count": null,
   "id": "7ad8c00d",
   "metadata": {},
   "outputs": [],
   "source": [
    "nested\n",
    "\n",
    "for var1 in list1:\n",
    "    print(statement)\n",
    "    for var2 in list2:\n",
    "        print(\"statement\")\n",
    "print(statement)\n",
    "print(statement)"
   ]
  },
  {
   "cell_type": "code",
   "execution_count": null,
   "id": "dda599d0",
   "metadata": {},
   "outputs": [],
   "source": [
    "[1,2,3,4]--for\n",
    "[\"a\",\"b\"]--for"
   ]
  },
  {
   "cell_type": "code",
   "execution_count": null,
   "id": "e8ad0545",
   "metadata": {},
   "outputs": [],
   "source": [
    "1-'a', 1-'b', 2-'a',2-'b',3-'a',3-'b',4-'a',4-'b'"
   ]
  },
  {
   "cell_type": "code",
   "execution_count": 1,
   "id": "034035ad",
   "metadata": {},
   "outputs": [],
   "source": [
    "outerloop=[1,2,3,4]"
   ]
  },
  {
   "cell_type": "code",
   "execution_count": 2,
   "id": "d3fde5a0",
   "metadata": {},
   "outputs": [],
   "source": [
    "inner_loop=[\"a\",\"b\"]"
   ]
  },
  {
   "cell_type": "code",
   "execution_count": 3,
   "id": "766dab94",
   "metadata": {},
   "outputs": [
    {
     "name": "stdout",
     "output_type": "stream",
     "text": [
      "var1 1\n",
      "var2 a\n",
      "var2 b\n",
      "var1 2\n",
      "var2 a\n",
      "var2 b\n",
      "var1 3\n",
      "var2 a\n",
      "var2 b\n",
      "var1 4\n",
      "var2 a\n",
      "var2 b\n"
     ]
    }
   ],
   "source": [
    "for var1 in outerloop:\n",
    "    print(\"var1\",var1)\n",
    "    for var2 in inner_loop:\n",
    "        print(\"var2\" ,var2)"
   ]
  },
  {
   "cell_type": "code",
   "execution_count": 4,
   "id": "928445eb",
   "metadata": {},
   "outputs": [],
   "source": [
    "food_item=[\"item1\",\"item2\",\"item3\"]"
   ]
  },
  {
   "cell_type": "code",
   "execution_count": 6,
   "id": "8203c5f9",
   "metadata": {},
   "outputs": [],
   "source": [
    "price_items=[200,250,300]"
   ]
  },
  {
   "cell_type": "code",
   "execution_count": 7,
   "id": "e38118c5",
   "metadata": {},
   "outputs": [
    {
     "name": "stdout",
     "output_type": "stream",
     "text": [
      " food items is  item1\n",
      " each quantity wise prices 200\n",
      " each quantity wise prices 250\n",
      " each quantity wise prices 300\n",
      " food items is  item2\n",
      " each quantity wise prices 200\n",
      " each quantity wise prices 250\n",
      " each quantity wise prices 300\n",
      " food items is  item3\n",
      " each quantity wise prices 200\n",
      " each quantity wise prices 250\n",
      " each quantity wise prices 300\n"
     ]
    }
   ],
   "source": [
    "for item in food_item:\n",
    "    print(\" food items is \",item)\n",
    "    for price in price_items:\n",
    "        print(\" each quantity wise prices\", price)"
   ]
  },
  {
   "cell_type": "code",
   "execution_count": null,
   "id": "4893a121",
   "metadata": {},
   "outputs": [],
   "source": [
    "syntax:\n",
    "    \n",
    "def functionname(parameter/variables,paramter/variables(int,str,seq--list,tuple,dict,set,array,df)):\n",
    "    statement\n",
    "    statement\n",
    "    return varaible/statemnt/conditions--optional \n",
    "    "
   ]
  },
  {
   "cell_type": "code",
   "execution_count": null,
   "id": "b36cc9a4",
   "metadata": {},
   "outputs": [],
   "source": [
    "def functionname(name,age,loction)"
   ]
  },
  {
   "cell_type": "code",
   "execution_count": null,
   "id": "0885571e",
   "metadata": {},
   "outputs": [],
   "source": [
    "def functionname(name=,age=,location=)"
   ]
  },
  {
   "cell_type": "code",
   "execution_count": null,
   "id": "8aab3228",
   "metadata": {},
   "outputs": [],
   "source": [
    "def function name(name : str ,age : int ,location: str)"
   ]
  },
  {
   "cell_type": "code",
   "execution_count": null,
   "id": "b7b5c806",
   "metadata": {},
   "outputs": [],
   "source": [
    "function --2types"
   ]
  },
  {
   "cell_type": "code",
   "execution_count": null,
   "id": "fea92836",
   "metadata": {},
   "outputs": [],
   "source": [
    "inbuilt \n",
    "\n",
    "print(\"\",vara)"
   ]
  },
  {
   "cell_type": "code",
   "execution_count": null,
   "id": "3989d274",
   "metadata": {},
   "outputs": [],
   "source": [
    "type(varaible)"
   ]
  },
  {
   "cell_type": "code",
   "execution_count": null,
   "id": "d64207cc",
   "metadata": {},
   "outputs": [],
   "source": [
    "user defined----own logic"
   ]
  },
  {
   "cell_type": "code",
   "execution_count": null,
   "id": "d66e5b87",
   "metadata": {},
   "outputs": [],
   "source": [
    "def "
   ]
  },
  {
   "cell_type": "code",
   "execution_count": null,
   "id": "7eb74522",
   "metadata": {},
   "outputs": [],
   "source": [
    "    \n",
    "def functionname(parameter/variables,paramter/variables(int,str,seq--list,tuple,dict,set,array,df):\n",
    "    statement\n",
    "    statement\n",
    "    return varaible/statemnt/conditions--optional "
   ]
  },
  {
   "cell_type": "code",
   "execution_count": null,
   "id": "397fe045",
   "metadata": {},
   "outputs": [],
   "source": [
    "2,3 --addition"
   ]
  },
  {
   "cell_type": "code",
   "execution_count": null,
   "id": "c93775c5",
   "metadata": {},
   "outputs": [],
   "source": [
    "# function definition---logic\n",
    "#funciton call --logic -multiple input paramet test /ouptut"
   ]
  },
  {
   "cell_type": "code",
   "execution_count": 8,
   "id": "47e70f6c",
   "metadata": {},
   "outputs": [],
   "source": [
    "num1=2"
   ]
  },
  {
   "cell_type": "code",
   "execution_count": 9,
   "id": "8fa4b2c5",
   "metadata": {},
   "outputs": [],
   "source": [
    "num2=3"
   ]
  },
  {
   "cell_type": "code",
   "execution_count": 11,
   "id": "6506c8da",
   "metadata": {},
   "outputs": [],
   "source": [
    "addition=num1+num2"
   ]
  },
  {
   "cell_type": "code",
   "execution_count": 12,
   "id": "e70665f0",
   "metadata": {},
   "outputs": [
    {
     "data": {
      "text/plain": [
       "5"
      ]
     },
     "execution_count": 12,
     "metadata": {},
     "output_type": "execute_result"
    }
   ],
   "source": [
    "addition"
   ]
  },
  {
   "cell_type": "code",
   "execution_count": 13,
   "id": "657e87cb",
   "metadata": {},
   "outputs": [],
   "source": [
    "def addtion_test(par1,par2):\n",
    "    num1=par1\n",
    "    num2=par2\n",
    "    addition=num1+num2\n",
    "    return addition\n",
    "    \n",
    "    "
   ]
  },
  {
   "cell_type": "code",
   "execution_count": 18,
   "id": "99733340",
   "metadata": {},
   "outputs": [],
   "source": [
    "def addtion_test1(par1,par2):\n",
    "    num1=par1\n",
    "    num2=par2\n",
    "    \n",
    "    return num1+num2\n",
    "    \n",
    "    \n",
    "    "
   ]
  },
  {
   "cell_type": "code",
   "execution_count": 14,
   "id": "0b6c8e2d",
   "metadata": {},
   "outputs": [
    {
     "data": {
      "text/plain": [
       "9"
      ]
     },
     "execution_count": 14,
     "metadata": {},
     "output_type": "execute_result"
    }
   ],
   "source": [
    "addtion_test(3,6)"
   ]
  },
  {
   "cell_type": "code",
   "execution_count": 19,
   "id": "98eec68f",
   "metadata": {},
   "outputs": [
    {
     "data": {
      "text/plain": [
       "9"
      ]
     },
     "execution_count": 19,
     "metadata": {},
     "output_type": "execute_result"
    }
   ],
   "source": [
    "addtion_test1(3,6)"
   ]
  },
  {
   "cell_type": "code",
   "execution_count": null,
   "id": "3e5b95cf",
   "metadata": {},
   "outputs": [],
   "source": [
    "built functions-->predefined function "
   ]
  },
  {
   "cell_type": "code",
   "execution_count": null,
   "id": "ae5f037b",
   "metadata": {},
   "outputs": [],
   "source": [
    "numeric functions-->int float"
   ]
  },
  {
   "cell_type": "code",
   "execution_count": null,
   "id": "97b729ec",
   "metadata": {},
   "outputs": [],
   "source": [
    "abs()---->"
   ]
  },
  {
   "cell_type": "code",
   "execution_count": 1,
   "id": "22f011a6",
   "metadata": {},
   "outputs": [],
   "source": [
    "int_var=-20"
   ]
  },
  {
   "cell_type": "code",
   "execution_count": 2,
   "id": "e42e5801",
   "metadata": {},
   "outputs": [
    {
     "data": {
      "text/plain": [
       "-20"
      ]
     },
     "execution_count": 2,
     "metadata": {},
     "output_type": "execute_result"
    }
   ],
   "source": [
    "int_var"
   ]
  },
  {
   "cell_type": "code",
   "execution_count": 3,
   "id": "71f8ad32",
   "metadata": {},
   "outputs": [],
   "source": [
    "new_int_var=abs(int_var)"
   ]
  },
  {
   "cell_type": "code",
   "execution_count": 4,
   "id": "4e3f8bdb",
   "metadata": {},
   "outputs": [
    {
     "data": {
      "text/plain": [
       "20"
      ]
     },
     "execution_count": 4,
     "metadata": {},
     "output_type": "execute_result"
    }
   ],
   "source": [
    "new_int_var"
   ]
  },
  {
   "cell_type": "code",
   "execution_count": 5,
   "id": "01f06f3d",
   "metadata": {},
   "outputs": [],
   "source": [
    "int_pos_var=+20\n"
   ]
  },
  {
   "cell_type": "code",
   "execution_count": 6,
   "id": "7f5c35df",
   "metadata": {},
   "outputs": [
    {
     "data": {
      "text/plain": [
       "20"
      ]
     },
     "execution_count": 6,
     "metadata": {},
     "output_type": "execute_result"
    }
   ],
   "source": [
    "int_pos_var"
   ]
  },
  {
   "cell_type": "code",
   "execution_count": null,
   "id": "bb162693",
   "metadata": {},
   "outputs": [],
   "source": [
    "ceil--- float "
   ]
  },
  {
   "cell_type": "code",
   "execution_count": 9,
   "id": "ecd1b198",
   "metadata": {},
   "outputs": [],
   "source": [
    "import math"
   ]
  },
  {
   "cell_type": "code",
   "execution_count": 7,
   "id": "36c9b9ab",
   "metadata": {},
   "outputs": [],
   "source": [
    "float_var=123.456 "
   ]
  },
  {
   "cell_type": "code",
   "execution_count": 10,
   "id": "aa5a0171",
   "metadata": {},
   "outputs": [],
   "source": [
    "new_float_var=math.ceil(float_var)"
   ]
  },
  {
   "cell_type": "code",
   "execution_count": 11,
   "id": "97db143b",
   "metadata": {},
   "outputs": [
    {
     "data": {
      "text/plain": [
       "124"
      ]
     },
     "execution_count": 11,
     "metadata": {},
     "output_type": "execute_result"
    }
   ],
   "source": [
    "new_float_var"
   ]
  },
  {
   "cell_type": "code",
   "execution_count": null,
   "id": "052a2967",
   "metadata": {},
   "outputs": [],
   "source": [
    "floor --->float "
   ]
  },
  {
   "cell_type": "code",
   "execution_count": 12,
   "id": "e799fc3b",
   "metadata": {},
   "outputs": [],
   "source": [
    "new_floar_var=123.456"
   ]
  },
  {
   "cell_type": "code",
   "execution_count": 13,
   "id": "a92caea9",
   "metadata": {},
   "outputs": [],
   "source": [
    "floar_new_var_v1=math.floor(new_floar_var)"
   ]
  },
  {
   "cell_type": "code",
   "execution_count": 14,
   "id": "88edd8e2",
   "metadata": {},
   "outputs": [
    {
     "data": {
      "text/plain": [
       "123"
      ]
     },
     "execution_count": 14,
     "metadata": {},
     "output_type": "execute_result"
    }
   ],
   "source": [
    "floar_new_var_v1"
   ]
  },
  {
   "cell_type": "code",
   "execution_count": null,
   "id": "00044d50",
   "metadata": {},
   "outputs": [],
   "source": [
    "round()---float,,,,  decimal"
   ]
  },
  {
   "cell_type": "code",
   "execution_count": null,
   "id": "36f746af",
   "metadata": {},
   "outputs": [],
   "source": [
    "123.456\n",
    "123.46\n"
   ]
  },
  {
   "cell_type": "code",
   "execution_count": null,
   "id": "5191ac28",
   "metadata": {},
   "outputs": [],
   "source": [
    "124.53\n",
    "124.56\n",
    "1\n",
    "124.5\n",
    "124.6\n"
   ]
  },
  {
   "cell_type": "code",
   "execution_count": null,
   "id": "12a64361",
   "metadata": {},
   "outputs": [],
   "source": [
    "round(variable,roundup value)"
   ]
  },
  {
   "cell_type": "code",
   "execution_count": 16,
   "id": "523b608f",
   "metadata": {},
   "outputs": [],
   "source": [
    "round_val=123.456"
   ]
  },
  {
   "cell_type": "code",
   "execution_count": 17,
   "id": "bd917239",
   "metadata": {},
   "outputs": [],
   "source": [
    "roun_0=round(round_val)"
   ]
  },
  {
   "cell_type": "code",
   "execution_count": 18,
   "id": "685befa8",
   "metadata": {},
   "outputs": [
    {
     "data": {
      "text/plain": [
       "123"
      ]
     },
     "execution_count": 18,
     "metadata": {},
     "output_type": "execute_result"
    }
   ],
   "source": [
    "roun_0"
   ]
  },
  {
   "cell_type": "code",
   "execution_count": 19,
   "id": "1729e74e",
   "metadata": {},
   "outputs": [],
   "source": [
    "roun_1=round(round_val,0)"
   ]
  },
  {
   "cell_type": "code",
   "execution_count": 20,
   "id": "2fed3e27",
   "metadata": {},
   "outputs": [
    {
     "data": {
      "text/plain": [
       "123.0"
      ]
     },
     "execution_count": 20,
     "metadata": {},
     "output_type": "execute_result"
    }
   ],
   "source": [
    "roun_1"
   ]
  },
  {
   "cell_type": "code",
   "execution_count": 21,
   "id": "e0d115d6",
   "metadata": {},
   "outputs": [],
   "source": [
    "roun_1=round(round_val,1)"
   ]
  },
  {
   "cell_type": "code",
   "execution_count": 22,
   "id": "3d4c1893",
   "metadata": {},
   "outputs": [
    {
     "data": {
      "text/plain": [
       "123.5"
      ]
     },
     "execution_count": 22,
     "metadata": {},
     "output_type": "execute_result"
    }
   ],
   "source": [
    "roun_1"
   ]
  },
  {
   "cell_type": "code",
   "execution_count": 23,
   "id": "f9851515",
   "metadata": {},
   "outputs": [],
   "source": [
    "roun_2=round(round_val,2)"
   ]
  },
  {
   "cell_type": "code",
   "execution_count": 24,
   "id": "1ce378ea",
   "metadata": {},
   "outputs": [
    {
     "data": {
      "text/plain": [
       "123.46"
      ]
     },
     "execution_count": 24,
     "metadata": {},
     "output_type": "execute_result"
    }
   ],
   "source": [
    "roun_2"
   ]
  },
  {
   "cell_type": "code",
   "execution_count": null,
   "id": "cfc1ee99",
   "metadata": {},
   "outputs": [],
   "source": [
    "mathematics--Fuctions"
   ]
  },
  {
   "cell_type": "code",
   "execution_count": null,
   "id": "dfa6b099",
   "metadata": {},
   "outputs": [],
   "source": [
    "sum()--seq,data column"
   ]
  },
  {
   "cell_type": "code",
   "execution_count": 25,
   "id": "175bd551",
   "metadata": {},
   "outputs": [],
   "source": [
    "lst=[1,2,3,4,5]"
   ]
  },
  {
   "cell_type": "code",
   "execution_count": null,
   "id": "019beb9e",
   "metadata": {},
   "outputs": [],
   "source": [
    "lst.sum()--->"
   ]
  },
  {
   "cell_type": "code",
   "execution_count": 26,
   "id": "e167d49e",
   "metadata": {},
   "outputs": [
    {
     "data": {
      "text/plain": [
       "15"
      ]
     },
     "execution_count": 26,
     "metadata": {},
     "output_type": "execute_result"
    }
   ],
   "source": [
    "sum(lst)"
   ]
  },
  {
   "cell_type": "code",
   "execution_count": null,
   "id": "dac74e30",
   "metadata": {},
   "outputs": [],
   "source": [
    "average()"
   ]
  },
  {
   "cell_type": "code",
   "execution_count": null,
   "id": "c053d54f",
   "metadata": {},
   "outputs": [],
   "source": [
    "max()"
   ]
  },
  {
   "cell_type": "code",
   "execution_count": 27,
   "id": "193785ef",
   "metadata": {},
   "outputs": [],
   "source": [
    "lst=[12,34,56,89,32,45]"
   ]
  },
  {
   "cell_type": "code",
   "execution_count": 28,
   "id": "745f3258",
   "metadata": {},
   "outputs": [
    {
     "data": {
      "text/plain": [
       "89"
      ]
     },
     "execution_count": 28,
     "metadata": {},
     "output_type": "execute_result"
    }
   ],
   "source": [
    "max(lst)"
   ]
  },
  {
   "cell_type": "code",
   "execution_count": null,
   "id": "3b25b673",
   "metadata": {},
   "outputs": [],
   "source": [
    "min()"
   ]
  },
  {
   "cell_type": "code",
   "execution_count": 29,
   "id": "bb3e9e2b",
   "metadata": {},
   "outputs": [],
   "source": [
    "lst=[12,34,56,89,32,45]"
   ]
  },
  {
   "cell_type": "code",
   "execution_count": 30,
   "id": "7177c83a",
   "metadata": {},
   "outputs": [
    {
     "data": {
      "text/plain": [
       "12"
      ]
     },
     "execution_count": 30,
     "metadata": {},
     "output_type": "execute_result"
    }
   ],
   "source": [
    "min(lst)"
   ]
  },
  {
   "cell_type": "code",
   "execution_count": null,
   "id": "2f6de044",
   "metadata": {},
   "outputs": [],
   "source": [
    "count()"
   ]
  },
  {
   "cell_type": "code",
   "execution_count": 31,
   "id": "f83e2986",
   "metadata": {},
   "outputs": [
    {
     "ename": "NameError",
     "evalue": "name 'count' is not defined",
     "output_type": "error",
     "traceback": [
      "\u001b[1;31m---------------------------------------------------------------------------\u001b[0m",
      "\u001b[1;31mNameError\u001b[0m                                 Traceback (most recent call last)",
      "Cell \u001b[1;32mIn[31], line 1\u001b[0m\n\u001b[1;32m----> 1\u001b[0m \u001b[43mcount\u001b[49m(lst)\n",
      "\u001b[1;31mNameError\u001b[0m: name 'count' is not defined"
     ]
    }
   ],
   "source": [
    "count(lst)"
   ]
  },
  {
   "cell_type": "code",
   "execution_count": 32,
   "id": "3aef6373",
   "metadata": {},
   "outputs": [
    {
     "ename": "TypeError",
     "evalue": "list.count() takes exactly one argument (0 given)",
     "output_type": "error",
     "traceback": [
      "\u001b[1;31m---------------------------------------------------------------------------\u001b[0m",
      "\u001b[1;31mTypeError\u001b[0m                                 Traceback (most recent call last)",
      "Cell \u001b[1;32mIn[32], line 1\u001b[0m\n\u001b[1;32m----> 1\u001b[0m \u001b[43mlst\u001b[49m\u001b[38;5;241;43m.\u001b[39;49m\u001b[43mcount\u001b[49m\u001b[43m(\u001b[49m\u001b[43m)\u001b[49m\n",
      "\u001b[1;31mTypeError\u001b[0m: list.count() takes exactly one argument (0 given)"
     ]
    }
   ],
   "source": [
    "lst.count()"
   ]
  },
  {
   "cell_type": "code",
   "execution_count": null,
   "id": "7ed056b6",
   "metadata": {},
   "outputs": [],
   "source": [
    "---string function--->char data"
   ]
  },
  {
   "cell_type": "code",
   "execution_count": null,
   "id": "369733e9",
   "metadata": {},
   "outputs": [],
   "source": [
    "len()"
   ]
  },
  {
   "cell_type": "code",
   "execution_count": 33,
   "id": "128c2b81",
   "metadata": {},
   "outputs": [],
   "source": [
    "name=\"paramatma\""
   ]
  },
  {
   "cell_type": "code",
   "execution_count": 34,
   "id": "72a61bea",
   "metadata": {},
   "outputs": [
    {
     "data": {
      "text/plain": [
       "9"
      ]
     },
     "execution_count": 34,
     "metadata": {},
     "output_type": "execute_result"
    }
   ],
   "source": [
    "len(name)"
   ]
  },
  {
   "cell_type": "code",
   "execution_count": 36,
   "id": "4681fe13",
   "metadata": {},
   "outputs": [],
   "source": [
    "name=\"paramatma param\""
   ]
  },
  {
   "cell_type": "code",
   "execution_count": 37,
   "id": "c560f9a7",
   "metadata": {},
   "outputs": [
    {
     "data": {
      "text/plain": [
       "15"
      ]
     },
     "execution_count": 37,
     "metadata": {},
     "output_type": "execute_result"
    }
   ],
   "source": [
    "len(name)"
   ]
  },
  {
   "cell_type": "code",
   "execution_count": 38,
   "id": "e48ce5a2",
   "metadata": {},
   "outputs": [
    {
     "data": {
      "text/plain": [
       "['paramatma', 'param']"
      ]
     },
     "execution_count": 38,
     "metadata": {},
     "output_type": "execute_result"
    }
   ],
   "source": [
    "name.split()"
   ]
  },
  {
   "cell_type": "code",
   "execution_count": null,
   "id": "0ca66c97",
   "metadata": {},
   "outputs": [],
   "source": [
    "lower()"
   ]
  },
  {
   "cell_type": "code",
   "execution_count": 40,
   "id": "0263d423",
   "metadata": {},
   "outputs": [],
   "source": [
    "name=\"Paramatma Param\""
   ]
  },
  {
   "cell_type": "code",
   "execution_count": 41,
   "id": "7891b3e1",
   "metadata": {},
   "outputs": [
    {
     "data": {
      "text/plain": [
       "'paramatma param'"
      ]
     },
     "execution_count": 41,
     "metadata": {},
     "output_type": "execute_result"
    }
   ],
   "source": [
    "name.lower()"
   ]
  },
  {
   "cell_type": "code",
   "execution_count": null,
   "id": "be4580de",
   "metadata": {},
   "outputs": [],
   "source": [
    "upper()"
   ]
  },
  {
   "cell_type": "code",
   "execution_count": 42,
   "id": "fdeaab73",
   "metadata": {},
   "outputs": [
    {
     "data": {
      "text/plain": [
       "'PARAMATMA PARAM'"
      ]
     },
     "execution_count": 42,
     "metadata": {},
     "output_type": "execute_result"
    }
   ],
   "source": [
    "name.upper()"
   ]
  },
  {
   "cell_type": "code",
   "execution_count": null,
   "id": "3b47ac5c",
   "metadata": {},
   "outputs": [],
   "source": [
    "propcase  -----Paramatma\n",
    "camel case---->aasdfaN"
   ]
  },
  {
   "cell_type": "code",
   "execution_count": null,
   "id": "c3e13194",
   "metadata": {},
   "outputs": [],
   "source": [
    "etc --->"
   ]
  },
  {
   "cell_type": "code",
   "execution_count": null,
   "id": "3faf5397",
   "metadata": {},
   "outputs": [],
   "source": [
    "statistical functions:"
   ]
  },
  {
   "cell_type": "code",
   "execution_count": null,
   "id": "0b4ab6d0",
   "metadata": {},
   "outputs": [],
   "source": [
    "df ,variable"
   ]
  },
  {
   "cell_type": "code",
   "execution_count": null,
   "id": "ac0a2944",
   "metadata": {},
   "outputs": [],
   "source": [
    "mean(),average\n",
    "mode(),most repeated\n",
    "median() -----[1,2,3,5,6]\n",
    "quartiles\n",
    "quantiles\n",
    "[1,2,3,4,5,6,----100]--partitioning "
   ]
  },
  {
   "cell_type": "code",
   "execution_count": null,
   "id": "ae36b7ee",
   "metadata": {},
   "outputs": [],
   "source": [
    "1,2,3,4,5,--50"
   ]
  },
  {
   "cell_type": "code",
   "execution_count": null,
   "id": "3b4f22c7",
   "metadata": {},
   "outputs": [],
   "source": [
    "10---decile "
   ]
  },
  {
   "cell_type": "code",
   "execution_count": null,
   "id": "0beb95bb",
   "metadata": {},
   "outputs": [],
   "source": [
    "1 1-5\n",
    "2 6-10"
   ]
  },
  {
   "cell_type": "code",
   "execution_count": null,
   "id": "7ea17ae6",
   "metadata": {},
   "outputs": [],
   "source": [
    "10----decile --10"
   ]
  },
  {
   "cell_type": "code",
   "execution_count": null,
   "id": "cbe97467",
   "metadata": {},
   "outputs": [],
   "source": [
    "10--1\n",
    "10-20--2\n",
    "30-40--3\n",
    "--10--90--100"
   ]
  },
  {
   "cell_type": "code",
   "execution_count": null,
   "id": "b732dcad",
   "metadata": {},
   "outputs": [],
   "source": [
    "percentile --? 100%"
   ]
  },
  {
   "cell_type": "code",
   "execution_count": null,
   "id": "bdf1e0d8",
   "metadata": {},
   "outputs": [],
   "source": [
    "1/0,2/1"
   ]
  },
  {
   "cell_type": "code",
   "execution_count": 43,
   "id": "c0a08396",
   "metadata": {},
   "outputs": [],
   "source": [
    "\n",
    "import pandas as pd"
   ]
  },
  {
   "cell_type": "code",
   "execution_count": 44,
   "id": "1243ed9d",
   "metadata": {},
   "outputs": [],
   "source": [
    "df=pd.DataFrame({\"values\": [23,34,56,78,90,32,45,67,89,76,43,21,56]})"
   ]
  },
  {
   "cell_type": "code",
   "execution_count": 45,
   "id": "033a5696",
   "metadata": {},
   "outputs": [
    {
     "data": {
      "text/html": [
       "<div>\n",
       "<style scoped>\n",
       "    .dataframe tbody tr th:only-of-type {\n",
       "        vertical-align: middle;\n",
       "    }\n",
       "\n",
       "    .dataframe tbody tr th {\n",
       "        vertical-align: top;\n",
       "    }\n",
       "\n",
       "    .dataframe thead th {\n",
       "        text-align: right;\n",
       "    }\n",
       "</style>\n",
       "<table border=\"1\" class=\"dataframe\">\n",
       "  <thead>\n",
       "    <tr style=\"text-align: right;\">\n",
       "      <th></th>\n",
       "      <th>values</th>\n",
       "    </tr>\n",
       "  </thead>\n",
       "  <tbody>\n",
       "    <tr>\n",
       "      <th>0</th>\n",
       "      <td>23</td>\n",
       "    </tr>\n",
       "    <tr>\n",
       "      <th>1</th>\n",
       "      <td>34</td>\n",
       "    </tr>\n",
       "    <tr>\n",
       "      <th>2</th>\n",
       "      <td>56</td>\n",
       "    </tr>\n",
       "    <tr>\n",
       "      <th>3</th>\n",
       "      <td>78</td>\n",
       "    </tr>\n",
       "    <tr>\n",
       "      <th>4</th>\n",
       "      <td>90</td>\n",
       "    </tr>\n",
       "    <tr>\n",
       "      <th>5</th>\n",
       "      <td>32</td>\n",
       "    </tr>\n",
       "    <tr>\n",
       "      <th>6</th>\n",
       "      <td>45</td>\n",
       "    </tr>\n",
       "    <tr>\n",
       "      <th>7</th>\n",
       "      <td>67</td>\n",
       "    </tr>\n",
       "    <tr>\n",
       "      <th>8</th>\n",
       "      <td>89</td>\n",
       "    </tr>\n",
       "    <tr>\n",
       "      <th>9</th>\n",
       "      <td>76</td>\n",
       "    </tr>\n",
       "    <tr>\n",
       "      <th>10</th>\n",
       "      <td>43</td>\n",
       "    </tr>\n",
       "    <tr>\n",
       "      <th>11</th>\n",
       "      <td>21</td>\n",
       "    </tr>\n",
       "    <tr>\n",
       "      <th>12</th>\n",
       "      <td>56</td>\n",
       "    </tr>\n",
       "  </tbody>\n",
       "</table>\n",
       "</div>"
      ],
      "text/plain": [
       "    values\n",
       "0       23\n",
       "1       34\n",
       "2       56\n",
       "3       78\n",
       "4       90\n",
       "5       32\n",
       "6       45\n",
       "7       67\n",
       "8       89\n",
       "9       76\n",
       "10      43\n",
       "11      21\n",
       "12      56"
      ]
     },
     "execution_count": 45,
     "metadata": {},
     "output_type": "execute_result"
    }
   ],
   "source": [
    "df"
   ]
  },
  {
   "cell_type": "code",
   "execution_count": 46,
   "id": "c0421e63",
   "metadata": {},
   "outputs": [
    {
     "data": {
      "text/html": [
       "<div>\n",
       "<style scoped>\n",
       "    .dataframe tbody tr th:only-of-type {\n",
       "        vertical-align: middle;\n",
       "    }\n",
       "\n",
       "    .dataframe tbody tr th {\n",
       "        vertical-align: top;\n",
       "    }\n",
       "\n",
       "    .dataframe thead th {\n",
       "        text-align: right;\n",
       "    }\n",
       "</style>\n",
       "<table border=\"1\" class=\"dataframe\">\n",
       "  <thead>\n",
       "    <tr style=\"text-align: right;\">\n",
       "      <th></th>\n",
       "      <th>values</th>\n",
       "    </tr>\n",
       "  </thead>\n",
       "  <tbody>\n",
       "    <tr>\n",
       "      <th>count</th>\n",
       "      <td>13.000000</td>\n",
       "    </tr>\n",
       "    <tr>\n",
       "      <th>mean</th>\n",
       "      <td>54.615385</td>\n",
       "    </tr>\n",
       "    <tr>\n",
       "      <th>std</th>\n",
       "      <td>23.960170</td>\n",
       "    </tr>\n",
       "    <tr>\n",
       "      <th>min</th>\n",
       "      <td>21.000000</td>\n",
       "    </tr>\n",
       "    <tr>\n",
       "      <th>25%</th>\n",
       "      <td>34.000000</td>\n",
       "    </tr>\n",
       "    <tr>\n",
       "      <th>50%</th>\n",
       "      <td>56.000000</td>\n",
       "    </tr>\n",
       "    <tr>\n",
       "      <th>75%</th>\n",
       "      <td>76.000000</td>\n",
       "    </tr>\n",
       "    <tr>\n",
       "      <th>max</th>\n",
       "      <td>90.000000</td>\n",
       "    </tr>\n",
       "  </tbody>\n",
       "</table>\n",
       "</div>"
      ],
      "text/plain": [
       "          values\n",
       "count  13.000000\n",
       "mean   54.615385\n",
       "std    23.960170\n",
       "min    21.000000\n",
       "25%    34.000000\n",
       "50%    56.000000\n",
       "75%    76.000000\n",
       "max    90.000000"
      ]
     },
     "execution_count": 46,
     "metadata": {},
     "output_type": "execute_result"
    }
   ],
   "source": [
    "df.describe()"
   ]
  },
  {
   "cell_type": "code",
   "execution_count": 47,
   "id": "7b31f100",
   "metadata": {},
   "outputs": [
    {
     "data": {
      "text/plain": [
       "values    54.615385\n",
       "dtype: float64"
      ]
     },
     "execution_count": 47,
     "metadata": {},
     "output_type": "execute_result"
    }
   ],
   "source": [
    "df.mean()"
   ]
  },
  {
   "cell_type": "code",
   "execution_count": 48,
   "id": "78f5e256",
   "metadata": {},
   "outputs": [
    {
     "data": {
      "text/plain": [
       "values    56.0\n",
       "dtype: float64"
      ]
     },
     "execution_count": 48,
     "metadata": {},
     "output_type": "execute_result"
    }
   ],
   "source": [
    "df.median()"
   ]
  },
  {
   "cell_type": "code",
   "execution_count": 49,
   "id": "8023642f",
   "metadata": {},
   "outputs": [
    {
     "data": {
      "text/plain": [
       "values    90\n",
       "dtype: int64"
      ]
     },
     "execution_count": 49,
     "metadata": {},
     "output_type": "execute_result"
    }
   ],
   "source": [
    "df.max()"
   ]
  },
  {
   "cell_type": "code",
   "execution_count": 50,
   "id": "37fec567",
   "metadata": {},
   "outputs": [
    {
     "data": {
      "text/plain": [
       "values    21\n",
       "dtype: int64"
      ]
     },
     "execution_count": 50,
     "metadata": {},
     "output_type": "execute_result"
    }
   ],
   "source": [
    "df.min()"
   ]
  },
  {
   "cell_type": "code",
   "execution_count": 51,
   "id": "b5d427da",
   "metadata": {},
   "outputs": [
    {
     "ename": "AttributeError",
     "evalue": "'DataFrame' object has no attribute 'percentile'",
     "output_type": "error",
     "traceback": [
      "\u001b[1;31m---------------------------------------------------------------------------\u001b[0m",
      "\u001b[1;31mAttributeError\u001b[0m                            Traceback (most recent call last)",
      "Cell \u001b[1;32mIn[51], line 1\u001b[0m\n\u001b[1;32m----> 1\u001b[0m \u001b[43mdf\u001b[49m\u001b[38;5;241;43m.\u001b[39;49m\u001b[43mpercentile\u001b[49m(\u001b[38;5;241m0\u001b[39m)\n",
      "File \u001b[1;32m~\\anaconda3\\lib\\site-packages\\pandas\\core\\generic.py:5902\u001b[0m, in \u001b[0;36mNDFrame.__getattr__\u001b[1;34m(self, name)\u001b[0m\n\u001b[0;32m   5895\u001b[0m \u001b[38;5;28;01mif\u001b[39;00m (\n\u001b[0;32m   5896\u001b[0m     name \u001b[38;5;129;01mnot\u001b[39;00m \u001b[38;5;129;01min\u001b[39;00m \u001b[38;5;28mself\u001b[39m\u001b[38;5;241m.\u001b[39m_internal_names_set\n\u001b[0;32m   5897\u001b[0m     \u001b[38;5;129;01mand\u001b[39;00m name \u001b[38;5;129;01mnot\u001b[39;00m \u001b[38;5;129;01min\u001b[39;00m \u001b[38;5;28mself\u001b[39m\u001b[38;5;241m.\u001b[39m_metadata\n\u001b[0;32m   5898\u001b[0m     \u001b[38;5;129;01mand\u001b[39;00m name \u001b[38;5;129;01mnot\u001b[39;00m \u001b[38;5;129;01min\u001b[39;00m \u001b[38;5;28mself\u001b[39m\u001b[38;5;241m.\u001b[39m_accessors\n\u001b[0;32m   5899\u001b[0m     \u001b[38;5;129;01mand\u001b[39;00m \u001b[38;5;28mself\u001b[39m\u001b[38;5;241m.\u001b[39m_info_axis\u001b[38;5;241m.\u001b[39m_can_hold_identifiers_and_holds_name(name)\n\u001b[0;32m   5900\u001b[0m ):\n\u001b[0;32m   5901\u001b[0m     \u001b[38;5;28;01mreturn\u001b[39;00m \u001b[38;5;28mself\u001b[39m[name]\n\u001b[1;32m-> 5902\u001b[0m \u001b[38;5;28;01mreturn\u001b[39;00m \u001b[38;5;28;43mobject\u001b[39;49m\u001b[38;5;241;43m.\u001b[39;49m\u001b[38;5;21;43m__getattribute__\u001b[39;49m\u001b[43m(\u001b[49m\u001b[38;5;28;43mself\u001b[39;49m\u001b[43m,\u001b[49m\u001b[43m \u001b[49m\u001b[43mname\u001b[49m\u001b[43m)\u001b[49m\n",
      "\u001b[1;31mAttributeError\u001b[0m: 'DataFrame' object has no attribute 'percentile'"
     ]
    }
   ],
   "source": [
    "# df.percentile(0)"
   ]
  },
  {
   "cell_type": "code",
   "execution_count": null,
   "id": "b294edc2",
   "metadata": {},
   "outputs": [],
   "source": [
    "user defined function(own ) --built in (logic moify)"
   ]
  },
  {
   "cell_type": "code",
   "execution_count": null,
   "id": "4b67020f",
   "metadata": {},
   "outputs": [],
   "source": [
    "-----built in function -->search"
   ]
  },
  {
   "cell_type": "code",
   "execution_count": null,
   "id": "5e5d5159",
   "metadata": {},
   "outputs": [],
   "source": [
    "--user define"
   ]
  },
  {
   "cell_type": "code",
   "execution_count": null,
   "id": "58420ee0",
   "metadata": {},
   "outputs": [],
   "source": [
    "\n",
    "3 \n",
    "addition\n",
    "\n",
    "4 number multile\n",
    "\n",
    "\n",
    "2 divisioin \n",
    "\n"
   ]
  },
  {
   "cell_type": "code",
   "execution_count": null,
   "id": "be1d6c53",
   "metadata": {},
   "outputs": [],
   "source": [
    "3 \n",
    "addition"
   ]
  },
  {
   "cell_type": "code",
   "execution_count": null,
   "id": "cfa758aa",
   "metadata": {},
   "outputs": [],
   "source": [
    "logic"
   ]
  },
  {
   "cell_type": "code",
   "execution_count": 52,
   "id": "c5db5833",
   "metadata": {},
   "outputs": [],
   "source": [
    "\n",
    "n1=10\n",
    "n2=30\n",
    "n3=40\n",
    "\n",
    "add=n1+n2+n3\n",
    "\n"
   ]
  },
  {
   "cell_type": "code",
   "execution_count": 60,
   "id": "91ecfbcb",
   "metadata": {},
   "outputs": [],
   "source": [
    "\n",
    "# static function--?\n",
    "def addition_3number():\n",
    "    n1=10\n",
    "    n2=30\n",
    "    n3=40\n",
    "    add=n1+n2+n3\n",
    "    return add"
   ]
  },
  {
   "cell_type": "code",
   "execution_count": 66,
   "id": "4842191e",
   "metadata": {},
   "outputs": [
    {
     "data": {
      "text/plain": [
       "80"
      ]
     },
     "execution_count": 66,
     "metadata": {},
     "output_type": "execute_result"
    }
   ],
   "source": [
    "addition_3number()"
   ]
  },
  {
   "cell_type": "code",
   "execution_count": 68,
   "id": "ec767176",
   "metadata": {},
   "outputs": [],
   "source": [
    "# dynamic function\n",
    "def addition_3number_v1(par1,par2,par3):\n",
    "    n1=par1\n",
    "    n2=par2\n",
    "    n3=par3\n",
    "    add=n1+n2+n3\n",
    "    return add"
   ]
  },
  {
   "cell_type": "code",
   "execution_count": null,
   "id": "8aa1267f",
   "metadata": {},
   "outputs": [],
   "source": []
  },
  {
   "cell_type": "code",
   "execution_count": 70,
   "id": "513f6b78",
   "metadata": {},
   "outputs": [
    {
     "data": {
      "text/plain": [
       "250"
      ]
     },
     "execution_count": 70,
     "metadata": {},
     "output_type": "execute_result"
    }
   ],
   "source": [
    "addition_3number_v1(140,50,60)"
   ]
  },
  {
   "cell_type": "code",
   "execution_count": 72,
   "id": "0c88b5f1",
   "metadata": {},
   "outputs": [],
   "source": [
    "# dynamic function\n",
    "par1=10\n",
    "par2=20\n",
    "par3=40\n",
    "def addition_3number_v2(var1=par1,var2=par2,var3=par3):\n",
    "    n1=var1\n",
    "    n2=var2\n",
    "    n3=var3\n",
    "    add=n1+n2+n3\n",
    "    return add"
   ]
  },
  {
   "cell_type": "code",
   "execution_count": 74,
   "id": "d07f312f",
   "metadata": {},
   "outputs": [
    {
     "data": {
      "text/plain": [
       "150"
      ]
     },
     "execution_count": 74,
     "metadata": {},
     "output_type": "execute_result"
    }
   ],
   "source": [
    "addition_3number_v2(30,50,70)"
   ]
  },
  {
   "cell_type": "code",
   "execution_count": 78,
   "id": "b785c407",
   "metadata": {},
   "outputs": [],
   "source": [
    "# dynamic function\n",
    "par3=10\n",
    "par2=20\n",
    "\n",
    "def addition_3number_v3(var1,var2=par2,var3=par3):\n",
    "    n1=var1\n",
    "    n2=var2\n",
    "    n3=var3\n",
    "    add=n1+n2+n3\n",
    "    return add"
   ]
  },
  {
   "cell_type": "code",
   "execution_count": 79,
   "id": "7bf9ee91",
   "metadata": {},
   "outputs": [
    {
     "data": {
      "text/plain": [
       "150"
      ]
     },
     "execution_count": 79,
     "metadata": {},
     "output_type": "execute_result"
    }
   ],
   "source": [
    "addition_3number_v3(30,50,70)"
   ]
  },
  {
   "cell_type": "code",
   "execution_count": null,
   "id": "c13711f0",
   "metadata": {},
   "outputs": [],
   "source": [
    "seq,str,int yes"
   ]
  },
  {
   "cell_type": "code",
   "execution_count": null,
   "id": "400d7999",
   "metadata": {},
   "outputs": [],
   "source": [
    "fooditems --- deliver \n",
    "\n",
    "Birayni item--param\n",
    "veg item--nivas"
   ]
  },
  {
   "cell_type": "code",
   "execution_count": 80,
   "id": "208e3032",
   "metadata": {},
   "outputs": [],
   "source": [
    "fooditem=[\"CB\",\"MB\",\"PB\",\"DAL\",\"VEGITABLESOUPS\"]"
   ]
  },
  {
   "cell_type": "code",
   "execution_count": null,
   "id": "05b6dd95",
   "metadata": {},
   "outputs": [],
   "source": [
    "LOOPS\n",
    "FOR --  LIMIT\n",
    "WHILE --NO LIMIT --\n",
    "\n",
    "\n",
    "RULES CONDITION\n",
    "IF \n",
    "IF ELSE--?\n",
    "IF ELIF ---?\n",
    "\n",
    "MODULE DEF\n",
    "\n",
    "\n"
   ]
  },
  {
   "cell_type": "code",
   "execution_count": 83,
   "id": "ce7abfd0",
   "metadata": {},
   "outputs": [],
   "source": [
    "fooditem=[\"CB\",\"MB\",\"PB\",\"DAL\",\"VEGITABLESOUPS\"]"
   ]
  },
  {
   "cell_type": "code",
   "execution_count": 85,
   "id": "2fc55c61",
   "metadata": {},
   "outputs": [],
   "source": [
    "def food_delivery(fooditem):\n",
    "    for var in fooditem:\n",
    "        if var==\"CB\":\n",
    "            print(\" deliver to param\")\n",
    "        elif var==\"MB\":\n",
    "            print(\" deliver to param\")\n",
    "        elif var==\"PB\":\n",
    "            print(\" deliver to param\")\n",
    "        else:\n",
    "            print(\" deliver to nivas\")\n",
    "    "
   ]
  },
  {
   "cell_type": "code",
   "execution_count": 90,
   "id": "f1db90fe",
   "metadata": {},
   "outputs": [],
   "source": [
    "def food_delivery(fooditem):\n",
    "    for var in fooditem:\n",
    "        if var==\"CB\":\n",
    "            print(\" deliver to param\")\n",
    "        elif var==\"MB\":\n",
    "            print(\" deliver to param\")\n",
    "        elif var==\"PB\":\n",
    "            print(\" deliver to param\")\n",
    "        else:\n",
    "            print(\" deliver to nivas\")"
   ]
  },
  {
   "cell_type": "code",
   "execution_count": 87,
   "id": "561b8654",
   "metadata": {},
   "outputs": [],
   "source": [
    "fooditem_monday=[\"vegcurry2\",\"MB\",\"vegcurry\",\"DAL\",\"VEGITABLESOUPS\"]"
   ]
  },
  {
   "cell_type": "code",
   "execution_count": 91,
   "id": "eac160fb",
   "metadata": {},
   "outputs": [
    {
     "ename": "NameError",
     "evalue": "name 'fooditem_1' is not defined",
     "output_type": "error",
     "traceback": [
      "\u001b[1;31m---------------------------------------------------------------------------\u001b[0m",
      "\u001b[1;31mNameError\u001b[0m                                 Traceback (most recent call last)",
      "Cell \u001b[1;32mIn[91], line 1\u001b[0m\n\u001b[1;32m----> 1\u001b[0m \u001b[43mfood_delivery\u001b[49m\u001b[43m(\u001b[49m\u001b[43mfooditem_monday\u001b[49m\u001b[43m)\u001b[49m\n",
      "Cell \u001b[1;32mIn[90], line 2\u001b[0m, in \u001b[0;36mfood_delivery\u001b[1;34m(fooditem)\u001b[0m\n\u001b[0;32m      1\u001b[0m \u001b[38;5;28;01mdef\u001b[39;00m \u001b[38;5;21mfood_delivery\u001b[39m(fooditem):\n\u001b[1;32m----> 2\u001b[0m     \u001b[38;5;28;01mfor\u001b[39;00m var \u001b[38;5;129;01min\u001b[39;00m \u001b[43mfooditem_1\u001b[49m:\n\u001b[0;32m      3\u001b[0m         \u001b[38;5;28;01mif\u001b[39;00m var\u001b[38;5;241m==\u001b[39m\u001b[38;5;124m\"\u001b[39m\u001b[38;5;124mCB\u001b[39m\u001b[38;5;124m\"\u001b[39m:\n\u001b[0;32m      4\u001b[0m             \u001b[38;5;28mprint\u001b[39m(\u001b[38;5;124m\"\u001b[39m\u001b[38;5;124m deliver to param\u001b[39m\u001b[38;5;124m\"\u001b[39m)\n",
      "\u001b[1;31mNameError\u001b[0m: name 'fooditem_1' is not defined"
     ]
    }
   ],
   "source": [
    "food_delivery(fooditem_monday)"
   ]
  },
  {
   "cell_type": "code",
   "execution_count": 88,
   "id": "ffc497b5",
   "metadata": {},
   "outputs": [
    {
     "name": "stdout",
     "output_type": "stream",
     "text": [
      " deliver to param\n",
      " deliver to param\n",
      " deliver to param\n",
      " deliver to nivas\n",
      " deliver to nivas\n"
     ]
    }
   ],
   "source": [
    "food_delivery(fooditem)"
   ]
  },
  {
   "cell_type": "code",
   "execution_count": null,
   "id": "6be877ed",
   "metadata": {},
   "outputs": [],
   "source": [
    "scenarion\n",
    "\n",
    "variable\n",
    "conditions\n",
    "loops\n",
    "function\n",
    "\n",
    "\n",
    "------nested loops\n",
    "nested condtion\n",
    "functions---->\n",
    "oops start"
   ]
  },
  {
   "cell_type": "code",
   "execution_count": null,
   "id": "a287ae66",
   "metadata": {},
   "outputs": [],
   "source": []
  }
 ],
 "metadata": {
  "kernelspec": {
   "display_name": "Python 3 (ipykernel)",
   "language": "python",
   "name": "python3"
  },
  "language_info": {
   "codemirror_mode": {
    "name": "ipython",
    "version": 3
   },
   "file_extension": ".py",
   "mimetype": "text/x-python",
   "name": "python",
   "nbconvert_exporter": "python",
   "pygments_lexer": "ipython3",
   "version": "3.10.9"
  }
 },
 "nbformat": 4,
 "nbformat_minor": 5
}
